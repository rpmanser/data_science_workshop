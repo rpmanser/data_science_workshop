{
 "cells": [
  {
   "cell_type": "markdown",
   "id": "881f8365-a629-4037-a64b-50868bdd2d83",
   "metadata": {},
   "source": [
    "<a id=\"top\"></a>\n",
    "# Pandas and Scikit-Learn\n",
    "\n",
    "<img src=\"http://www.kulturwirt.de/wp-content/uploads/2021/04/1920px-Pandas_logo.svg.png\" width=200/>\n",
    "\n",
    "pandas is a Python library for loading and manipulating tabular data with labels (e.g., CSV, Excel files). It provides many of the same operations as NumPy, with some extra tools for operating on time dimensions, cleaning up data, and creating plots.\n",
    "\n",
    "scikit-learn provides tools for creating statistical and machine learning models. This notebook will provide an introduction to using scikit-learn for linear regression and how to handle data before using it to create a model.\n",
    "\n",
    "Before we get started with coding, let's install one more library to help us work with Microsoft Excel files. In a new terminal window, run the following command:\n",
    "\n",
    "`conda install -n data_science openpyxl --yes`\n",
    "\n",
    "which will install `openpyxl` to our conda environment."
   ]
  },
  {
   "cell_type": "markdown",
   "id": "ddd7d481-935b-4bb8-9d27-b9aa83b0e252",
   "metadata": {},
   "source": [
    "## Introduction to pandas\n",
    "\n",
    "1. [Series](#series)\n",
    "2. [DataFrames](#dataframes)\n",
    "3. [Saving and loading data](#saving-loading)\n",
    "4. [Working with real data](#real-data)\n",
    "\n",
    "## Exercises\n",
    "\n",
    "[Exercise 1](#exercise1)\n",
    "\n",
    "## [Jump to Scikit-Learn](#scikit-learn)"
   ]
  },
  {
   "cell_type": "markdown",
   "id": "1884ceb0-1078-4a68-9fab-68e63a1d75f9",
   "metadata": {},
   "source": [
    "<a id=\"series\"></a>\n",
    "## 1. Series\n",
    "\n",
    "Series objects are labeled arrays. While NumPy provides access to array objects, it does not provide labels for the data points within the array. Series solve this issue by introducing an index to describe the data points."
   ]
  },
  {
   "cell_type": "code",
   "execution_count": null,
   "id": "9e1562c5-5cae-4d8d-8bb3-16648f3285d3",
   "metadata": {
    "tags": []
   },
   "outputs": [],
   "source": [
    "import matplotlib.pyplot as plt\n",
    "import numpy as np\n",
    "import pandas as pd"
   ]
  },
  {
   "cell_type": "code",
   "execution_count": null,
   "id": "b913d48b-a051-4e99-9cea-f217c4f94bc6",
   "metadata": {
    "tags": []
   },
   "outputs": [],
   "source": [
    "index = pd.date_range(\"2020-01-01 00:00\", \"2020-01-02 00:00\", freq=\"H\", name=\"Time\")\n",
    "data = np.sin(np.arange(0.0, index.size * 0.5, 0.5))\n",
    "\n",
    "series = pd.Series(data=data, index=index, name=\"sinx\")"
   ]
  },
  {
   "cell_type": "code",
   "execution_count": null,
   "id": "4a999b22-38ce-4942-ac11-477fc71f6ec9",
   "metadata": {
    "tags": []
   },
   "outputs": [],
   "source": [
    "series.index"
   ]
  },
  {
   "cell_type": "code",
   "execution_count": null,
   "id": "2211fb83-f7ac-4d6d-a680-898f847f7963",
   "metadata": {
    "tags": []
   },
   "outputs": [],
   "source": [
    "series.values"
   ]
  },
  {
   "cell_type": "code",
   "execution_count": null,
   "id": "7650277a-191f-4d05-8aa3-20a267365eb3",
   "metadata": {
    "tags": []
   },
   "outputs": [],
   "source": [
    "series"
   ]
  },
  {
   "cell_type": "code",
   "execution_count": null,
   "id": "12dc320b-95b7-4b59-bc63-dfdf34c38afb",
   "metadata": {
    "tags": []
   },
   "outputs": [],
   "source": [
    "series.iloc[2]"
   ]
  },
  {
   "cell_type": "code",
   "execution_count": null,
   "id": "e893d657-cacf-4311-9f36-777267596767",
   "metadata": {
    "tags": []
   },
   "outputs": [],
   "source": [
    "series.loc[\"2020-01-01 02:00:00\"]"
   ]
  },
  {
   "cell_type": "code",
   "execution_count": null,
   "id": "3d214242-c64a-4f69-81b1-957e4fcafe3e",
   "metadata": {
    "tags": []
   },
   "outputs": [],
   "source": [
    "ax = series.plot()\n",
    "ax.set_ylabel(series.name)"
   ]
  },
  {
   "cell_type": "code",
   "execution_count": null,
   "id": "486e26eb-c484-4851-a2d8-5ed400436f75",
   "metadata": {
    "tags": []
   },
   "outputs": [],
   "source": [
    "ax = series.plot()\n",
    "ax.set_ylabel(series.name)\n",
    "ax.grid()"
   ]
  },
  {
   "cell_type": "markdown",
   "id": "bc943eaf-116b-4604-ad64-4e99ded7db0e",
   "metadata": {},
   "source": [
    "[Return to top](#top)\n",
    "\n",
    "<a id=\"dataframes\"></a>\n",
    "## 2. DataFrames\n",
    "\n",
    "DataFrames go one step further to provide a way to work with tabular data that has a common index. Now, instead of having an array with labels for each data point, we have multiple arrays with unique names and a common index, all of which describe our data."
   ]
  },
  {
   "cell_type": "code",
   "execution_count": null,
   "id": "a4d3ead7-9585-42ea-a45e-1fd590887809",
   "metadata": {
    "tags": []
   },
   "outputs": [],
   "source": [
    "index = pd.date_range(\"2020-01-01 00:00\", \"2020-01-02 00:00\", freq=\"H\", name=\"Time\")\n",
    "data = {\n",
    "    \"sinx\": np.sin(np.arange(0.0, index.size * 0.5, 0.5)),\n",
    "    \"cosx\": np.cos(np.arange(0.0, index.size * 0.5, 0.5)),\n",
    "}\n",
    "df = pd.DataFrame(data=data, index=index)"
   ]
  },
  {
   "cell_type": "code",
   "execution_count": null,
   "id": "8abb12c0-d563-4821-8e19-e49f8ce8e5c9",
   "metadata": {
    "tags": []
   },
   "outputs": [],
   "source": [
    "df.shape"
   ]
  },
  {
   "cell_type": "code",
   "execution_count": null,
   "id": "e80e3cdb-52c3-42ea-b538-89b5acca3063",
   "metadata": {
    "tags": []
   },
   "outputs": [],
   "source": [
    "df.index"
   ]
  },
  {
   "cell_type": "code",
   "execution_count": null,
   "id": "fc13879c-8eee-48fe-bd7b-47361cf9a531",
   "metadata": {
    "tags": []
   },
   "outputs": [],
   "source": [
    "df.columns"
   ]
  },
  {
   "cell_type": "code",
   "execution_count": null,
   "id": "3d5306c0-6e86-47f5-8227-2172c6ce2739",
   "metadata": {
    "tags": []
   },
   "outputs": [],
   "source": [
    "df"
   ]
  },
  {
   "cell_type": "code",
   "execution_count": null,
   "id": "e5d72247-d168-4869-b33a-e86dea991786",
   "metadata": {
    "tags": []
   },
   "outputs": [],
   "source": [
    "df.sinx"
   ]
  },
  {
   "cell_type": "code",
   "execution_count": null,
   "id": "f9b991af-2f47-46b8-83a1-9ad94287bc7f",
   "metadata": {
    "tags": []
   },
   "outputs": [],
   "source": [
    "df[\"sinx\"]"
   ]
  },
  {
   "cell_type": "code",
   "execution_count": null,
   "id": "2f6f6573-3255-4da1-9594-17eb701d1bb8",
   "metadata": {
    "tags": []
   },
   "outputs": [],
   "source": [
    "df[\"sinx\"].values"
   ]
  },
  {
   "cell_type": "code",
   "execution_count": null,
   "id": "1c871df2-4ee1-4caa-b70f-3c6b8021ff8c",
   "metadata": {
    "tags": []
   },
   "outputs": [],
   "source": [
    "df.iloc[12]"
   ]
  },
  {
   "cell_type": "code",
   "execution_count": null,
   "id": "fd97d52e-2bd7-48ff-965f-e06b0ead40af",
   "metadata": {
    "tags": []
   },
   "outputs": [],
   "source": [
    "df.loc[\"2020-01-01 12:00\"]"
   ]
  },
  {
   "cell_type": "code",
   "execution_count": null,
   "id": "a5552cb0-3960-4423-9495-d83990f85c73",
   "metadata": {
    "tags": []
   },
   "outputs": [],
   "source": [
    "fig, ax = plt.subplots(figsize=(8, 6))\n",
    "\n",
    "df.plot(ax=ax)"
   ]
  },
  {
   "cell_type": "markdown",
   "id": "019db15f-39f5-4fb6-8e16-94330dc2d374",
   "metadata": {},
   "source": [
    "[Return to top](#top)\n",
    "\n",
    "<a id=\"saving-loading\"></a>\n",
    "## 3. Saving and loading data\n",
    "\n",
    "Tabular data of many forms can be saved to disk and loaded from disk using pandas. Two common file formats are CSVs (comma separated values) and Microsoft Excel files."
   ]
  },
  {
   "cell_type": "code",
   "execution_count": null,
   "id": "77dbb6ae-7290-492e-95af-3ad85995df41",
   "metadata": {
    "tags": []
   },
   "outputs": [],
   "source": [
    "df.to_csv(\"data/my_data.csv\")"
   ]
  },
  {
   "cell_type": "code",
   "execution_count": null,
   "id": "679cfe89-0637-4de9-9613-86f1ec5f0fec",
   "metadata": {
    "tags": []
   },
   "outputs": [],
   "source": [
    "pd.read_csv(\"data/my_data.csv\", index_col=0, parse_dates=True)"
   ]
  },
  {
   "cell_type": "code",
   "execution_count": null,
   "id": "493d5f8f-f17c-4135-9421-57d420666993",
   "metadata": {
    "tags": []
   },
   "outputs": [],
   "source": [
    "df.to_excel(\"data/my_data.xlsx\")"
   ]
  },
  {
   "cell_type": "code",
   "execution_count": null,
   "id": "5bc2233d-8618-47ab-9332-620efb19bc12",
   "metadata": {
    "tags": []
   },
   "outputs": [],
   "source": [
    "pd.read_excel(\"data/my_data.xlsx\", index_col=0, parse_dates=True)"
   ]
  },
  {
   "cell_type": "markdown",
   "id": "e65c8ac6-b828-48dd-8d8a-4690e0ac3c9f",
   "metadata": {},
   "source": [
    "[Return to top](#top)\n",
    "\n",
    "<a id=\"real-data\"></a>\n",
    "## 4. Working with real data\n",
    "\n",
    "When doing research, we won't necessarily have nice sine and cosine curves to look at. Let's explore some real data from a weather observation station located in Junction, TX. This includes 1-minute observations of many weather variables over the month of June 2016."
   ]
  },
  {
   "cell_type": "code",
   "execution_count": null,
   "id": "08269124-197c-4c30-b4ec-e320c7797adc",
   "metadata": {
    "tags": []
   },
   "outputs": [],
   "source": [
    "df = pd.read_csv(\"data/junction_201604.csv\", index_col=\"Time\", parse_dates=True)"
   ]
  },
  {
   "cell_type": "code",
   "execution_count": null,
   "id": "9c930120-fdc2-4fe5-af24-970d8f7db400",
   "metadata": {
    "tags": []
   },
   "outputs": [],
   "source": [
    "df.shape"
   ]
  },
  {
   "cell_type": "code",
   "execution_count": null,
   "id": "5e887a51-8681-4e19-9e5d-52f47bc37a12",
   "metadata": {
    "tags": []
   },
   "outputs": [],
   "source": [
    "df.index"
   ]
  },
  {
   "cell_type": "code",
   "execution_count": null,
   "id": "f27b74a3-0647-439d-81f9-03143257ee47",
   "metadata": {
    "tags": []
   },
   "outputs": [],
   "source": [
    "df.columns"
   ]
  },
  {
   "cell_type": "code",
   "execution_count": null,
   "id": "f4ccf558-0eab-4a82-9b4f-853829d30c4d",
   "metadata": {
    "tags": []
   },
   "outputs": [],
   "source": [
    "df.head(10)"
   ]
  },
  {
   "cell_type": "code",
   "execution_count": null,
   "id": "fd76f2e3-9ab7-4963-b6e9-0e129f431337",
   "metadata": {
    "tags": []
   },
   "outputs": [],
   "source": [
    "df[\"2-m Temperature (C)\"].plot()"
   ]
  },
  {
   "cell_type": "code",
   "execution_count": null,
   "id": "c2069c4e-a86b-4713-acb7-a708c3570654",
   "metadata": {
    "tags": []
   },
   "outputs": [],
   "source": [
    "df[[\"2-m Temperature (C)\", \"9-m Temperature (C)\"]].plot()"
   ]
  },
  {
   "cell_type": "code",
   "execution_count": null,
   "id": "4435871c-c02c-4cd1-9607-b450799af0a1",
   "metadata": {
    "tags": []
   },
   "outputs": [],
   "source": [
    "time_slice = slice(pd.Timestamp(\"2016-06-01 00:00-05:00\"), pd.Timestamp(\"2016-06-02 00:00-05:00\"))\n",
    "df.loc[time_slice, [\"2-m Temperature (C)\", \"9-m Temperature (C)\"]].plot()"
   ]
  },
  {
   "cell_type": "code",
   "execution_count": null,
   "id": "e9a87f27-6ccf-4585-822a-a3610d42568d",
   "metadata": {
    "tags": []
   },
   "outputs": [],
   "source": [
    "df.describe()"
   ]
  },
  {
   "cell_type": "code",
   "execution_count": null,
   "id": "84276d48-5f4f-4538-9b6e-899db7421e0a",
   "metadata": {
    "tags": []
   },
   "outputs": [],
   "source": [
    "df.corr()"
   ]
  },
  {
   "cell_type": "code",
   "execution_count": null,
   "id": "bf84632d-eef3-4e2c-9be9-9e03f065a87a",
   "metadata": {
    "tags": []
   },
   "outputs": [],
   "source": [
    "df[[\"2-m Temperature (C)\", \"Solar Radiation (W/m^2)\"]].corr()"
   ]
  },
  {
   "cell_type": "code",
   "execution_count": null,
   "id": "e9248571-92c1-4ac6-b147-c24c9bb6a459",
   "metadata": {
    "tags": []
   },
   "outputs": [],
   "source": [
    "import matplotlib.pyplot as plt\n",
    "\n",
    "fig, ax = plt.subplots(figsize=(8, 8))\n",
    "\n",
    "df.plot.scatter(x=\"2-m Temperature (C)\", y=\"Solar Radiation (W/m^2)\", ax=ax)"
   ]
  },
  {
   "cell_type": "markdown",
   "id": "dcb71dc0-54ee-40d1-886f-4e685587319f",
   "metadata": {},
   "source": [
    "[Return to top](#top)\n",
    "\n",
    "<a id=\"exercise1\"></a>\n",
    "## Exercise 1\n",
    "\n",
    "1. Select a column of data from the real dataset above and plot it over a 1-week period of your choosing (available dates are June 1, 2016 to June 30, 2016)."
   ]
  },
  {
   "cell_type": "code",
   "execution_count": null,
   "id": "67cf3137-503f-4114-bed0-33a31f8cb507",
   "metadata": {
    "tags": []
   },
   "outputs": [],
   "source": [
    "# your code here"
   ]
  },
  {
   "cell_type": "markdown",
   "id": "6a7c3c21-6e0c-4734-b20b-258e2b0bab0a",
   "metadata": {},
   "source": [
    "***\n",
    "\n",
    "[Return to top](#top)\n",
    "\n",
    "<a id=\"scikit-learn\"></a>\n",
    "# Scikit-Learn\n",
    "\n",
    "<img src=\"https://scikit-learn.org/stable/_static/scikit-learn-logo-small.png\" width=200/>\n",
    "\n",
    "Scikit-learn is a library that provides tools for building and aseessing statistical and machine learning models from datasets. In this section we will explore how to fit a model to real data and some considerations about the data that need to be made to improve predictions.\n",
    "\n",
    "1. [Fitting a model to data](#fitting)\n",
    "2. [Cleaning up and manipulating data](#clean-manipulate)\n",
    "\n",
    "## Exercises\n",
    "\n",
    "[Exercise 2](#exercise2)"
   ]
  },
  {
   "cell_type": "markdown",
   "id": "35066eaa-5950-4db3-bde7-487a8a1c9673",
   "metadata": {},
   "source": [
    "<a id=\"fitting\"></a>\n",
    "## 1. Fitting a model to data\n",
    "\n",
    "There is a signal between 2-meter temperature and solar radiation according to the correlation table. Let's fit a model to these variables."
   ]
  },
  {
   "cell_type": "code",
   "execution_count": null,
   "id": "81f591fa-c638-47ad-a169-f6f20745fdc9",
   "metadata": {
    "tags": []
   },
   "outputs": [],
   "source": [
    "from sklearn.linear_model import LinearRegression"
   ]
  },
  {
   "cell_type": "code",
   "execution_count": null,
   "id": "111561d3-947e-47f0-9f78-a6aba001a55d",
   "metadata": {
    "tags": []
   },
   "outputs": [],
   "source": [
    "temp_and_solar = df[[\"2-m Temperature (C)\", \"Solar Radiation (W/m^2)\"]]\n",
    "print(temp_and_solar.shape)"
   ]
  },
  {
   "cell_type": "code",
   "execution_count": null,
   "id": "4665c094-50ad-45ed-b5aa-ab453439ea8d",
   "metadata": {
    "tags": []
   },
   "outputs": [],
   "source": [
    "x = temp_and_solar[\"2-m Temperature (C)\"].values.reshape((-1, 1))\n",
    "y = temp_and_solar[\"Solar Radiation (W/m^2)\"].values.reshape((-1, 1))"
   ]
  },
  {
   "cell_type": "code",
   "execution_count": null,
   "id": "dfe59b34-489d-43e2-a2d5-b4ea02a90937",
   "metadata": {
    "tags": []
   },
   "outputs": [],
   "source": [
    "x.shape"
   ]
  },
  {
   "cell_type": "code",
   "execution_count": null,
   "id": "e18e4588-d43a-4023-a59b-e994196a7b49",
   "metadata": {
    "tags": []
   },
   "outputs": [],
   "source": [
    "x"
   ]
  },
  {
   "cell_type": "code",
   "execution_count": null,
   "id": "ed0bca93-8d7c-431d-ad14-c50a631da822",
   "metadata": {
    "tags": []
   },
   "outputs": [],
   "source": [
    "model = LinearRegression()\n",
    "model.fit(x, y)"
   ]
  },
  {
   "cell_type": "code",
   "execution_count": null,
   "id": "690102eb-e10b-49b3-a85b-e3da113fe00f",
   "metadata": {
    "tags": []
   },
   "outputs": [],
   "source": [
    "r_sq = model.score(x, y)\n",
    "intercept = model.intercept_[0]\n",
    "slope = model.coef_[0]"
   ]
  },
  {
   "cell_type": "code",
   "execution_count": null,
   "id": "d363a050-5f7e-4961-9d28-23efd853cde5",
   "metadata": {
    "tags": []
   },
   "outputs": [],
   "source": [
    "temp = temp_and_solar[\"2-m Temperature (C)\"].values\n",
    "\n",
    "fig, ax = plt.subplots(figsize=(8, 8))\n",
    "\n",
    "temp_and_solar.plot.scatter(x=\"2-m Temperature (C)\", y=\"Solar Radiation (W/m^2)\", ax=ax)\n",
    "ax.plot(temp, temp * slope + intercept, color=\"k\")\n",
    "ax.text(x=15, y=1000, s=f\"R-squared = {r_sq:.2f}\")"
   ]
  },
  {
   "cell_type": "code",
   "execution_count": null,
   "id": "5d4cbf3c-56bd-472a-b56f-6eed1c546101",
   "metadata": {
    "tags": []
   },
   "outputs": [],
   "source": [
    "xi = np.arange(20.0, 40.0, 1.0).reshape((-1, 1))\n",
    "yi = model.predict(xi)"
   ]
  },
  {
   "cell_type": "code",
   "execution_count": null,
   "id": "1811d5e4-e0b5-4c1f-a6e1-5a1b51509f04",
   "metadata": {
    "tags": []
   },
   "outputs": [],
   "source": [
    "fig, ax = plt.subplots(figsize=(8, 8))\n",
    "\n",
    "temp_and_solar.plot.scatter(x=\"2-m Temperature (C)\", y=\"Solar Radiation (W/m^2)\", ax=ax, label=\"Observations\")\n",
    "ax.scatter(xi, yi, color=\"orange\", zorder=10, label=\"Predictions\")\n",
    "ax.plot(temp, temp * slope + intercept, color=\"k\")\n",
    "ax.text(x=15, y=1000, s=f\"R-squared = {r_sq:.2f}\")\n",
    "ax.legend()"
   ]
  },
  {
   "cell_type": "markdown",
   "id": "aae3893f-6700-4226-a62e-cb1f3bc4c8c2",
   "metadata": {},
   "source": [
    "[Return to top](#top)\n",
    "\n",
    "<a id=\"clean-manipulate\"></a>\n",
    "## 2. Cleaning up and manipulating the data\n",
    "\n",
    "The model fit between 2-meter temperature and solar radiation above is not as strong as it could be. Let's manipulate the data to improve the model."
   ]
  },
  {
   "cell_type": "code",
   "execution_count": null,
   "id": "6b468ab1-0932-4332-89cf-d3710634e0ef",
   "metadata": {
    "tags": []
   },
   "outputs": [],
   "source": [
    "temp_solar_hourly = temp_and_solar.rolling(\"H\").mean().asfreq(\"H\")\n",
    "temp_solar_hourly.where(temp_and_solar[\"Solar Radiation (W/m^2)\"] > 0.0).dropna(inplace=True)\n",
    "print(temp_solar_hourly.shape)"
   ]
  },
  {
   "cell_type": "code",
   "execution_count": null,
   "id": "3efec450-9a0f-42ff-a8bb-37b05224f28a",
   "metadata": {
    "tags": []
   },
   "outputs": [],
   "source": [
    "fig, ax = plt.subplots(figsize=(8, 8))\n",
    "\n",
    "temp_solar_hourly.plot.scatter(x=\"2-m Temperature (C)\", y=\"Solar Radiation (W/m^2)\", ax=ax)"
   ]
  },
  {
   "cell_type": "code",
   "execution_count": null,
   "id": "95a29630-b30f-43f9-892c-0232b52b6a83",
   "metadata": {
    "tags": []
   },
   "outputs": [],
   "source": [
    "x = temp_solar_hourly[\"2-m Temperature (C)\"].values.reshape((-1, 1))\n",
    "y = temp_solar_hourly[\"Solar Radiation (W/m^2)\"].values.reshape((-1, 1))\n",
    "\n",
    "model = LinearRegression()\n",
    "model.fit(x, y)"
   ]
  },
  {
   "cell_type": "code",
   "execution_count": null,
   "id": "18c44348-0cc7-462d-b6e2-3fbabdc8b39e",
   "metadata": {
    "tags": []
   },
   "outputs": [],
   "source": [
    "r_sq = model.score(x, y)\n",
    "intercept = model.intercept_[0]\n",
    "slope = model.coef_[0]\n",
    "\n",
    "yi = model.predict(xi)"
   ]
  },
  {
   "cell_type": "code",
   "execution_count": null,
   "id": "e3b3112e-aadb-4465-b8ba-c35adf460400",
   "metadata": {
    "tags": []
   },
   "outputs": [],
   "source": [
    "fig, ax = plt.subplots(figsize=(8, 8))\n",
    "\n",
    "temp_solar_hourly.plot.scatter(x=\"2-m Temperature (C)\", y=\"Solar Radiation (W/m^2)\", ax=ax)\n",
    "ax.scatter(xi, yi, color=\"orange\", zorder=10, label=\"Predictions\")\n",
    "ax.plot(temp, temp * slope + intercept, color=\"k\")\n",
    "ax.text(x=15, y=1000, s=f\"R-squared = {r_sq:.2f}\")\n",
    "ax.legend()"
   ]
  },
  {
   "cell_type": "markdown",
   "id": "4ad4dd72-b813-42c1-8196-de378270010d",
   "metadata": {},
   "source": [
    "[Return to top](#top)\n",
    "\n",
    "<a id=\"exercise2\"></a>\n",
    "## Exercise 2\n",
    "\n",
    "Fit a multivariate linear regression to the data using 2-meter temperature, solar radiation, and at least one other variable of your choice. Consider the following:\n",
    "* What is the correlation between the variables you have selected?\n",
    "* Are there any physical relationships between the variables that you may need to consider before fitting a model to the data?\n",
    "\n",
    "Plot the resulting predictions (no need to plot the regression line) on top of the data. Hint: you will still use `LinearRegression` to create this model.\n",
    "* Are the predictions better than you expected or worse?\n",
    "* Are they better than our previous predictions or worse? Why?"
   ]
  },
  {
   "cell_type": "code",
   "execution_count": null,
   "id": "1b4bba05-8844-467c-884f-1b8cb8b60147",
   "metadata": {
    "tags": []
   },
   "outputs": [],
   "source": [
    "# you code here"
   ]
  },
  {
   "cell_type": "code",
   "execution_count": null,
   "id": "a0f89195-c517-42e8-99c9-268a495d22fe",
   "metadata": {},
   "outputs": [],
   "source": []
  }
 ],
 "metadata": {
  "kernelspec": {
   "display_name": "Python 3 (ipykernel)",
   "language": "python",
   "name": "python3"
  },
  "language_info": {
   "codemirror_mode": {
    "name": "ipython",
    "version": 3
   },
   "file_extension": ".py",
   "mimetype": "text/x-python",
   "name": "python",
   "nbconvert_exporter": "python",
   "pygments_lexer": "ipython3",
   "version": "3.11.0"
  }
 },
 "nbformat": 4,
 "nbformat_minor": 5
}
