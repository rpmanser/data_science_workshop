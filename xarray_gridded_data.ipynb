{
 "cells": [
  {
   "cell_type": "markdown",
   "id": "688730c5-e4c4-41a7-bb66-25eda45653f2",
   "metadata": {},
   "source": [
    "<a id=\"top\"></a>\n",
    "# Xarray and Gridded Data\n",
    "\n",
    "<img src=\"https://docs.xarray.dev/en/stable/_static/dataset-diagram-logo.png\" width=200/>\n",
    "\n",
    "Xarray builds upon pandas to provide labeled multi-dimensional arrays. Xarray datasets and data arrays can be manipulated similarly to NumPy arrays and pandas Dataframes, while providing additional tools specific to gridded datasets.\n",
    "\n",
    "1. [DataArrays](#data-arrays)\n",
    "2. [Datasets](#datasets)\n",
    "3. [Working with real data](#real-data)\n",
    "4. [Scipy for spatial analysis](#scipy)\n",
    "\n",
    "## Exercises\n",
    "\n",
    "[Exercise 1](#exercise1)<br>\n",
    "[Exercise 2](#exercise2)"
   ]
  },
  {
   "cell_type": "markdown",
   "id": "94dfc46d-bc99-45f5-82ff-9ca41f8d1e3d",
   "metadata": {},
   "source": [
    "<a id=\"data-arrays\"></a>\n",
    "## 1. DataArrays\n",
    "\n",
    "Like pandas Series objects, xarray has objects called DataArrays that store labeled data points. Xarray expands on the labeled data model by expanding to multiple dimensions (i.e., gridded data) and providing more options for metadata descriptions."
   ]
  },
  {
   "cell_type": "code",
   "execution_count": null,
   "id": "fedb52d0-dc0e-4e68-92b0-2cb072fdc2f4",
   "metadata": {},
   "outputs": [],
   "source": [
    "import matplotlib.pyplot as plt\n",
    "import numpy as np\n",
    "import pandas as pd\n",
    "import xarray as xr"
   ]
  },
  {
   "cell_type": "code",
   "execution_count": null,
   "id": "34012084-2a19-432b-aa69-f46a3ed425be",
   "metadata": {
    "tags": []
   },
   "outputs": [],
   "source": [
    "coords = {\n",
    "    \"Time\": pd.date_range(\"2020-01-01 00:00\", \"2020-01-02 00:00\", freq=\"H\", name=\"Time\"),\n",
    "}\n",
    "data = np.sin(np.arange(0.0, coords[\"Time\"].size * 0.5, 0.5))\n",
    "\n",
    "sinx = xr.DataArray(data=data, coords=coords, dims=[\"Time\"], name=\"sinx\")"
   ]
  },
  {
   "cell_type": "code",
   "execution_count": null,
   "id": "26c938c0-4f06-4511-89f8-b4b8692fe25c",
   "metadata": {
    "tags": []
   },
   "outputs": [],
   "source": [
    "sinx"
   ]
  },
  {
   "cell_type": "code",
   "execution_count": null,
   "id": "9f4445e8-f719-45f0-86c7-f029a01ff03b",
   "metadata": {
    "tags": []
   },
   "outputs": [],
   "source": [
    "sinx.Time"
   ]
  },
  {
   "cell_type": "code",
   "execution_count": null,
   "id": "210877cd-58ef-4ad2-a663-ba02c2873f9e",
   "metadata": {
    "tags": []
   },
   "outputs": [],
   "source": [
    "sinx.data"
   ]
  },
  {
   "cell_type": "code",
   "execution_count": null,
   "id": "93817d3f-e6e8-44a1-a06c-ac64cdca9e35",
   "metadata": {
    "tags": []
   },
   "outputs": [],
   "source": [
    "sinx.coords"
   ]
  },
  {
   "cell_type": "markdown",
   "id": "08cbed8a-063c-4a10-8dd2-50fc81d667c6",
   "metadata": {},
   "source": [
    "[Return to top](#top)\n",
    "\n",
    "<a id=\"datasets\"></a>\n",
    "## 2. Datasets\n",
    "\n",
    "Datasets typically contain multiple DataArrays with some common coordinates. Let's make a dataset out of sinx and cosx."
   ]
  },
  {
   "cell_type": "code",
   "execution_count": null,
   "id": "8048782b-c205-434b-b0e5-1708965d7bdf",
   "metadata": {
    "tags": []
   },
   "outputs": [],
   "source": [
    "coords = {\n",
    "    \"Time\": pd.date_range(\"2020-01-01 00:00\", \"2020-01-02 00:00\", freq=\"H\", name=\"Time\"),\n",
    "}\n",
    "sinx = np.sin(np.arange(0.0, coords[\"Time\"].size * 0.5, 0.5))\n",
    "sinx_da = xr.DataArray(data=sinx, coords=coords, dims=[\"Time\"], name=\"sinx\")\n",
    "\n",
    "cosx = np.cos(np.arange(0.0, coords[\"Time\"].size * 0.5, 0.5))\n",
    "cosx_da = xr.DataArray(data=cosx, coords=coords, dims=[\"Time\"], name=\"cosx\")"
   ]
  },
  {
   "cell_type": "code",
   "execution_count": null,
   "id": "106eead4-60a0-4888-8c30-3879e9ac8b4a",
   "metadata": {
    "tags": []
   },
   "outputs": [],
   "source": [
    "ds = xr.Dataset(data_vars={\"sinx\": sinx_da, \"cosx\": cosx_da})"
   ]
  },
  {
   "cell_type": "code",
   "execution_count": null,
   "id": "5b195804-2898-45e6-aabe-c3ee1fcc9d4f",
   "metadata": {
    "tags": []
   },
   "outputs": [],
   "source": [
    "ds"
   ]
  },
  {
   "cell_type": "code",
   "execution_count": null,
   "id": "2e52ec00-7943-4a2d-9d31-719add2bc382",
   "metadata": {
    "tags": []
   },
   "outputs": [],
   "source": [
    "print(ds)"
   ]
  },
  {
   "cell_type": "code",
   "execution_count": null,
   "id": "1fd26112-10e2-4f54-ab59-317df5f85066",
   "metadata": {
    "tags": []
   },
   "outputs": [],
   "source": [
    "attrs = {\"Description\": \"Sine and cosine trigonometric functions\"}\n",
    "ds = xr.Dataset(data_vars={\"sinx\": sinx, \"cosx\": cosx}, attrs=attrs)"
   ]
  },
  {
   "cell_type": "code",
   "execution_count": null,
   "id": "ba9f1b78-3e84-4645-9b0f-fd14f537a7bf",
   "metadata": {
    "tags": []
   },
   "outputs": [],
   "source": [
    "ds"
   ]
  },
  {
   "cell_type": "code",
   "execution_count": null,
   "id": "51e2b4cf-81f1-4bba-a8ec-7ec4fd229a65",
   "metadata": {
    "tags": []
   },
   "outputs": [],
   "source": [
    "x = np.arange(0.0, 5 * np.pi, np.pi / 8)\n",
    "y = x + np.pi / 2\n",
    "\n",
    "xx, yy = np.meshgrid(x, y)"
   ]
  },
  {
   "cell_type": "code",
   "execution_count": null,
   "id": "a054eb5c-cbea-4e9a-b85f-43a232f42ce0",
   "metadata": {
    "tags": []
   },
   "outputs": [],
   "source": [
    "xx"
   ]
  },
  {
   "cell_type": "code",
   "execution_count": null,
   "id": "03aa866b-2497-43ca-a2ef-334ef7308b6c",
   "metadata": {
    "tags": []
   },
   "outputs": [],
   "source": [
    "yy"
   ]
  },
  {
   "cell_type": "code",
   "execution_count": null,
   "id": "129f1e80-226c-4491-91d5-376729542c45",
   "metadata": {
    "tags": []
   },
   "outputs": [],
   "source": [
    "plt.pcolormesh(xx)"
   ]
  },
  {
   "cell_type": "code",
   "execution_count": null,
   "id": "8bb0bc36-d7d2-40cb-a553-c85b773b2ce4",
   "metadata": {
    "tags": []
   },
   "outputs": [],
   "source": [
    "plt.pcolormesh(yy)"
   ]
  },
  {
   "cell_type": "code",
   "execution_count": null,
   "id": "4d849e60-c572-4508-ae69-be819ba713da",
   "metadata": {
    "tags": []
   },
   "outputs": [],
   "source": [
    "plt.pcolormesh(np.cos(xx) * np.sin(yy))"
   ]
  },
  {
   "cell_type": "code",
   "execution_count": null,
   "id": "5ca6bc16-f5d8-434c-a5f4-b185fd77f8c1",
   "metadata": {
    "tags": []
   },
   "outputs": [],
   "source": [
    "coords = {\"x\": x, \"y\": y}\n",
    "\n",
    "da = xr.DataArray(\n",
    "    data=np.cos(xx) * np.sin(yy),\n",
    "    coords=coords,\n",
    "    dims=[\"x\", \"y\"],\n",
    "    name=\"cosx_times_siny\",\n",
    ")"
   ]
  },
  {
   "cell_type": "code",
   "execution_count": null,
   "id": "4877c00f-fd44-4c86-8caa-dd7913b44936",
   "metadata": {
    "tags": []
   },
   "outputs": [],
   "source": [
    "da"
   ]
  },
  {
   "cell_type": "code",
   "execution_count": null,
   "id": "16fcb105-53c7-458f-b26b-4ae25dab9c62",
   "metadata": {
    "tags": []
   },
   "outputs": [],
   "source": [
    "ds = xr.Dataset(data_vars={da.name: da})"
   ]
  },
  {
   "cell_type": "code",
   "execution_count": null,
   "id": "7cc2b152-61a4-47f8-bb0d-42c03ecadcda",
   "metadata": {
    "tags": []
   },
   "outputs": [],
   "source": [
    "ds"
   ]
  },
  {
   "cell_type": "code",
   "execution_count": null,
   "id": "bf05c7e5-b2ae-4241-af1b-1f22acbb004b",
   "metadata": {
    "tags": []
   },
   "outputs": [],
   "source": [
    "ds[\"cosx_times_siny\"].plot()"
   ]
  },
  {
   "cell_type": "code",
   "execution_count": null,
   "id": "2f69acb3-98c5-4699-9168-befe7bd057f0",
   "metadata": {
    "tags": []
   },
   "outputs": [],
   "source": [
    "ds[\"cosx_times_siny\"].mean()"
   ]
  },
  {
   "cell_type": "code",
   "execution_count": null,
   "id": "c3a213ee-8f1b-4ef0-9f1d-a83e2483067c",
   "metadata": {
    "tags": []
   },
   "outputs": [],
   "source": [
    "ds[\"cosx_times_siny\"].mean(dim=\"x\")"
   ]
  },
  {
   "cell_type": "markdown",
   "id": "41326df4-eb67-4cee-9c9e-1e5ee3d9c0fb",
   "metadata": {},
   "source": [
    "[Return to top](#top)\n",
    "\n",
    "<a id=\"real-data\"></a>\n",
    "## 3. Working with real data\n",
    "\n",
    "Our sine and cosine example is convenient for demonstrating how DataArrays and Datasets work. Let's try exploring some model forecast data for a real world example."
   ]
  },
  {
   "cell_type": "code",
   "execution_count": null,
   "id": "91003b15-67eb-4af0-92ff-eb7d0ad89a6d",
   "metadata": {},
   "outputs": [],
   "source": [
    "ds = xr.open_dataset(\"data/model_forecast.nc\")"
   ]
  },
  {
   "cell_type": "code",
   "execution_count": null,
   "id": "8b9ebcee-06d3-4eb8-b4ec-334251b258b4",
   "metadata": {
    "tags": []
   },
   "outputs": [],
   "source": [
    "ds"
   ]
  },
  {
   "cell_type": "code",
   "execution_count": null,
   "id": "f566cc70-1971-472e-9a0d-53235f504812",
   "metadata": {
    "tags": []
   },
   "outputs": [],
   "source": [
    "ds[\"temperature_2_meter\"].plot()"
   ]
  },
  {
   "cell_type": "code",
   "execution_count": null,
   "id": "86d08d38-9602-46ae-b907-7c166e99fcdc",
   "metadata": {
    "tags": []
   },
   "outputs": [],
   "source": [
    "ds[\"temperature\"].plot()"
   ]
  },
  {
   "cell_type": "code",
   "execution_count": null,
   "id": "245b9586-1148-4b61-afd1-c75881b03859",
   "metadata": {
    "tags": []
   },
   "outputs": [],
   "source": [
    "ds[\"temperature\"]"
   ]
  },
  {
   "cell_type": "code",
   "execution_count": null,
   "id": "f59dd1b3-ed13-4539-803f-9c7ee1527203",
   "metadata": {
    "tags": []
   },
   "outputs": [],
   "source": [
    "ds[\"pressure\"]"
   ]
  },
  {
   "cell_type": "code",
   "execution_count": null,
   "id": "c348921d-588a-4e3b-af3c-e30a61d30260",
   "metadata": {
    "tags": []
   },
   "outputs": [],
   "source": [
    "ds[\"temperature\"].sel(pressure=850.0)"
   ]
  },
  {
   "cell_type": "code",
   "execution_count": null,
   "id": "de8c1c0c-723a-4012-bad0-0323ec56c5fc",
   "metadata": {
    "tags": []
   },
   "outputs": [],
   "source": [
    "ds[\"temperature\"].isel(pressure=0)"
   ]
  },
  {
   "cell_type": "code",
   "execution_count": null,
   "id": "22ea9b2c-c456-413f-91b4-72b9e057f93f",
   "metadata": {
    "tags": []
   },
   "outputs": [],
   "source": [
    "ds[\"temperature\"].sel(pressure=850.0).plot()"
   ]
  },
  {
   "cell_type": "code",
   "execution_count": null,
   "id": "721e4b99-20f7-4ced-bbca-667915ddf858",
   "metadata": {
    "tags": []
   },
   "outputs": [],
   "source": [
    "ds[\"temperature_2_meter\"].plot()"
   ]
  },
  {
   "cell_type": "code",
   "execution_count": null,
   "id": "3366b1ce-b749-4fc2-86d1-21b1c1f1cc60",
   "metadata": {
    "tags": []
   },
   "outputs": [],
   "source": [
    "ds[\"temperature_2_meter\"].isel(x=200, y=200).values"
   ]
  },
  {
   "cell_type": "code",
   "execution_count": null,
   "id": "d155f1e5-69d0-444b-8bcb-d61890d80186",
   "metadata": {
    "tags": []
   },
   "outputs": [],
   "source": [
    "temp_interped = ds[\"temperature_2_meter\"].interp(x=200.5, y=200.5).values"
   ]
  },
  {
   "cell_type": "code",
   "execution_count": null,
   "id": "0837065d-04a7-4d95-b522-966222b6edeb",
   "metadata": {
    "tags": []
   },
   "outputs": [],
   "source": [
    "fig, ax = plt.subplots(figsize=(8, 6))\n",
    "\n",
    "ds[\"temperature_2_meter\"].plot(ax=ax)\n",
    "ax.scatter(x=200.5, y=200.5, color=\"black\", marker=\"x\")\n",
    "ax.text(x=207, y=207, s=f\"{temp_interped:.2f} {ds['temperature_2_meter'].units}\")"
   ]
  },
  {
   "cell_type": "code",
   "execution_count": null,
   "id": "a15732dc-5656-437b-8ac4-0bd5020bd605",
   "metadata": {
    "tags": []
   },
   "outputs": [],
   "source": [
    "x_interp = np.arange(200.5, 300.5, 10.0)\n",
    "y_interp = np.arange(200.5, 300.5, 10.0)"
   ]
  },
  {
   "cell_type": "code",
   "execution_count": null,
   "id": "b82081dd-2f14-4630-9f1c-fd13c31b94af",
   "metadata": {
    "tags": []
   },
   "outputs": [],
   "source": [
    "ds[\"temperature_2_meter\"].interp(x=x_interp, y=y_interp).values"
   ]
  },
  {
   "cell_type": "markdown",
   "id": "1757cc80-e2e4-4991-95bb-019b18aec04c",
   "metadata": {},
   "source": [
    "[Return to top](#top)\n",
    "\n",
    "<a id=\"exercise1\"></a>\n",
    "## Exercise 1\n",
    "\n",
    "1. Select a variable that has a vertical dimension of pressure and index that variable by one of the pressure levels. Plot the data.\n",
    "2. Interpolate to one or more points on the grid. Plot the data again with markers located at your interpolation point(s) and text labels describing the interpolated values."
   ]
  },
  {
   "cell_type": "code",
   "execution_count": null,
   "id": "009c0b23-7902-48cc-afe9-fd545ba37a70",
   "metadata": {
    "tags": []
   },
   "outputs": [],
   "source": [
    "# your code here"
   ]
  },
  {
   "cell_type": "markdown",
   "id": "b6d9bf0e-2ed2-408a-b216-8f0da77dfed4",
   "metadata": {},
   "source": [
    "[Return to top](#top)\n",
    "\n",
    "<a id=\"scipy\"></a>\n",
    "## 4. Scipy for Spatial Analysis\n",
    "\n",
    "<img src=\"https://docs.scipy.org/doc/scipy/_static/logo.svg\" width=200/>\n",
    "\n",
    "Scipy includes a huge number of tools for scientific computing that expands well beyond NumPy, pandas, and xarray. Here we will take just a glimpse at the `ndimage` module for analyzing spatial data."
   ]
  },
  {
   "cell_type": "code",
   "execution_count": null,
   "id": "f1846315-74bf-4db8-8654-b09db93e1787",
   "metadata": {
    "tags": []
   },
   "outputs": [],
   "source": [
    "from scipy import ndimage"
   ]
  },
  {
   "cell_type": "code",
   "execution_count": null,
   "id": "6cf34537-d9ef-4a55-8b75-4184de37495f",
   "metadata": {
    "tags": []
   },
   "outputs": [],
   "source": [
    "temp_filtered = ndimage.gaussian_filter(ds[\"temperature_2_meter\"], sigma=3.0)\n",
    "\n",
    "fig, ax = plt.subplots(figsize=(8, 6))\n",
    "ax.pcolormesh(temp_filtered)"
   ]
  },
  {
   "cell_type": "code",
   "execution_count": null,
   "id": "0ebdbe1c-638c-49a9-b86e-cb5bc172b808",
   "metadata": {
    "tags": []
   },
   "outputs": [],
   "source": [
    "temp_filtered = ndimage.gaussian_filter(ds[\"temperature_2_meter\"], sigma=3.0)\n",
    "difference = temp_filtered - ds[\"temperature_2_meter\"]\n",
    "\n",
    "fig, ax = plt.subplots(figsize=(8, 6))\n",
    "ax.pcolormesh(temp_filtered - ds[\"temperature_2_meter\"], cmap=\"seismic\", vmin=-5.0, vmax=5.0)"
   ]
  },
  {
   "cell_type": "code",
   "execution_count": null,
   "id": "e89e425b-f0bd-4837-865d-7c5f06a2d885",
   "metadata": {
    "tags": []
   },
   "outputs": [],
   "source": [
    "fig, ax = plt.subplots(figsize=(8, 6))\n",
    "ax.pcolormesh(difference[0:100, 200:300], cmap=\"seismic\", vmin=-5.0, vmax=5.0)"
   ]
  },
  {
   "cell_type": "code",
   "execution_count": null,
   "id": "2b779808-a5d1-49a9-8c2b-bc67cd7e3c8e",
   "metadata": {
    "tags": []
   },
   "outputs": [],
   "source": [
    "fig, ax = plt.subplots(figsize=(8, 6))\n",
    "ax.pcolormesh(difference[400:, 400:500], cmap=\"seismic\", vmin=-5.0, vmax=5.0)"
   ]
  },
  {
   "cell_type": "code",
   "execution_count": null,
   "id": "a4839f38-6a55-4511-90f0-017ef4ef936c",
   "metadata": {
    "tags": []
   },
   "outputs": [],
   "source": [
    "sobelx = ndimage.sobel(ds[\"temperature_2_meter\"], axis=1)\n",
    "sobely = ndimage.sobel(ds[\"temperature_2_meter\"], axis=0)\n",
    "sobel_filter = np.hypot(sobelx, sobely)"
   ]
  },
  {
   "cell_type": "code",
   "execution_count": null,
   "id": "15b33d07-447d-4ab3-bd30-3cbef448bda5",
   "metadata": {
    "tags": []
   },
   "outputs": [],
   "source": [
    "fig, ax = plt.subplots(figsize=(8, 6))\n",
    "\n",
    "ax.pcolormesh(sobel_filter)"
   ]
  },
  {
   "cell_type": "markdown",
   "id": "ea1b2f5a-5dd0-4c63-af22-16a62b7142e7",
   "metadata": {},
   "source": [
    "[Return to top](#top)\n",
    "\n",
    "<a id=\"exercise2\"></a>\n",
    "## Exercise 2\n",
    "\n",
    "1. Select another variable to analyze. Smooth the data using a gaussian filter and with varying sigma values. How does changing the sigma value change the smoothing of the data?"
   ]
  },
  {
   "cell_type": "code",
   "execution_count": null,
   "id": "44bd4e42-c065-49b3-b163-5bd9da19abcb",
   "metadata": {},
   "outputs": [],
   "source": []
  }
 ],
 "metadata": {
  "kernelspec": {
   "display_name": "Python 3 (ipykernel)",
   "language": "python",
   "name": "python3"
  },
  "language_info": {
   "codemirror_mode": {
    "name": "ipython",
    "version": 3
   },
   "file_extension": ".py",
   "mimetype": "text/x-python",
   "name": "python",
   "nbconvert_exporter": "python",
   "pygments_lexer": "ipython3",
   "version": "3.11.0"
  }
 },
 "nbformat": 4,
 "nbformat_minor": 5
}
