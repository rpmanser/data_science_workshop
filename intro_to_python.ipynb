{
 "cells": [
  {
   "cell_type": "markdown",
   "id": "667c68c2-843d-42d2-93d9-ec2feee1e4ec",
   "metadata": {},
   "source": [
    "<a id=\"top\"></a>\n",
    "# Getting Started\n",
    "\n",
    "There are a couple of items to address before we begin. First, we will download data that will be needed for some of the demonstrations in later notebooks. Please open a new tab in your web browser and enter the following:\n",
    "\n",
    "`www.atmo.ttu.edu/rmanser/media/data_science/junction_201604.csv`\n",
    "`www.atmo.ttu.edu/rmanser/media/data_science/model_forecast.nc`\n",
    "\n",
    "These data are available for workshop purposes only and will be removed from the addresses above after the workshop. Please do not distribute this data."
   ]
  },
  {
   "cell_type": "markdown",
   "id": "0d35b630-499c-420b-ac08-4c4ea230a242",
   "metadata": {
    "tags": []
   },
   "source": [
    "# Jupyter Commands\n",
    "\n",
    "Next, we will take a look at how to navigate jupyter notebooks. Jupyter notebooks provide an interactive environment for running Python code (other languages are supported too). There are many keyboard shortcuts that can be used to navigate this environment, but the following are most likely to be useful:\n",
    "\n",
    "### Command mode\n",
    "\n",
    "Press `Esc` to enter command mode\n",
    "\n",
    "* `Up/Down` navigate cells\n",
    "* `A` insert cell above\n",
    "* `B` insert cell below\n",
    "* `Shift+Enter` run cell\n",
    "* `M` switch to markdown input\n",
    "* `Y` switch to code input\n",
    "* `D,D` delete cell\n",
    "* `Z` undo\n",
    "* `CTRL+S` save notebook\n",
    "\n",
    "### Edit mode\n",
    "\n",
    "Press `Enter` to enter edit mode\n",
    "\n",
    "* `Shift+Enter` run cell\n",
    "* `Tab` auto complete a variable or module name\n",
    "* `CTRL+A` select all\n",
    "* `CTRL+Z` undo\n",
    "* `CTRL+Y` redo\n",
    "* `CTRL+S` save notebook\n",
    "\n",
    "\n",
    "A more complete set of commands can be found in this [cheatsheet](https://cheatography.com/weidadeyue/cheat-sheets/jupyter-notebook/)."
   ]
  },
  {
   "cell_type": "markdown",
   "id": "64380dd0-3c6e-4e3f-9e30-99b643cc0ad9",
   "metadata": {},
   "source": [
    "[Return to top](#top)\n",
    "\n",
    "# Introduction to Python\n",
    "\n",
    "Python is a general purpose programming language, but is particularly excellent for solving data science problems. Here, we will introduce Python and some of the important data structures that are relevant to data science tasks. This notebook will introduce you the jupyter notebook environment, as well as Python data types, data structures, and control flow (conditionals, loops, and functions)."
   ]
  },
  {
   "cell_type": "markdown",
   "id": "34079e33-8c4f-4718-8609-40befe73dd57",
   "metadata": {},
   "source": [
    "<a id=\"data-types\"></a>\n",
    "\n",
    "# Data types\n",
    "\n",
    "1. [Integers](#integers)\n",
    "2. [Floats](#floats)\n",
    "3. [Strings](#strings)\n",
    "4. [Booleans](#booleans)\n",
    "\n",
    "## [Jump to data structures](#data-structures)\n",
    "\n",
    "## [Jump to control flow](#control-flow)"
   ]
  },
  {
   "cell_type": "markdown",
   "id": "0507bcbc-c0a6-4637-9120-90418ae9cb9a",
   "metadata": {},
   "source": [
    "<a id=\"integers\"></a>\n",
    "\n",
    "## 1. Integers\n",
    "\n",
    "Integers are whole numbers that can be operated on with math operands. Python follows the PEMDAS rules for order of math operations.\n",
    "\n",
    "* **P**arentheses\n",
    "* **E**xponent\n",
    "* **M**ultiplication\n",
    "* **D**ivision\n",
    "* **A**ddition\n",
    "* **S**ubtraction"
   ]
  },
  {
   "cell_type": "code",
   "execution_count": null,
   "id": "cf59346f-001e-4d4c-ad56-5bbf6e1848cc",
   "metadata": {
    "tags": []
   },
   "outputs": [],
   "source": [
    "8 + 3 * 5"
   ]
  },
  {
   "cell_type": "code",
   "execution_count": null,
   "id": "86c50c4d-d0f1-4d95-9fe4-2f06a46652bc",
   "metadata": {
    "tags": []
   },
   "outputs": [],
   "source": [
    "5 ** 2 * (3 + 2)"
   ]
  },
  {
   "cell_type": "markdown",
   "id": "12d13df2-7201-415a-b47d-3626fa674309",
   "metadata": {},
   "source": [
    "Data types can be assigned to variables as in many other programming languages, then operated on."
   ]
  },
  {
   "cell_type": "code",
   "execution_count": null,
   "id": "93d5c2fb-a83b-41f4-aeec-bdc3c1479dbb",
   "metadata": {
    "tags": []
   },
   "outputs": [],
   "source": [
    "value = 6"
   ]
  },
  {
   "cell_type": "code",
   "execution_count": null,
   "id": "e8322ea4-9b40-43d7-af20-e092a4e0952c",
   "metadata": {
    "tags": []
   },
   "outputs": [],
   "source": [
    "value * 10"
   ]
  },
  {
   "cell_type": "markdown",
   "id": "85bf8296-e5a3-42c3-8cc0-c1875980dedb",
   "metadata": {},
   "source": [
    "[Return to top](#top)\n",
    "\n",
    "<a id=\"floats\"></a>\n",
    "\n",
    "## 2. Floats\n",
    "\n",
    "Floats are real (i.e., fractional) numbers that can be operated on in the same way as we operated on integers. They can be specified as decimals or fractions using the division operator."
   ]
  },
  {
   "cell_type": "code",
   "execution_count": null,
   "id": "0998d427-fa2c-4c74-85d5-6e8a234f58ea",
   "metadata": {
    "tags": []
   },
   "outputs": [],
   "source": [
    "value = 0.4"
   ]
  },
  {
   "cell_type": "code",
   "execution_count": null,
   "id": "2fbcda5b-30e7-417d-8007-7755d4bf7c33",
   "metadata": {
    "tags": []
   },
   "outputs": [],
   "source": [
    "value * 8"
   ]
  },
  {
   "cell_type": "code",
   "execution_count": null,
   "id": "4d892fe1-0dd6-4b00-b73c-c7ea2a05dffe",
   "metadata": {
    "tags": []
   },
   "outputs": [],
   "source": [
    "value = 2 / 5"
   ]
  },
  {
   "cell_type": "code",
   "execution_count": null,
   "id": "67fca4cc-1414-4c54-be4b-add294a26114",
   "metadata": {
    "tags": []
   },
   "outputs": [],
   "source": [
    "value * 8"
   ]
  },
  {
   "cell_type": "markdown",
   "id": "235c6a35-a206-424d-8fbc-401a62e600ca",
   "metadata": {},
   "source": [
    "Floating point numbers are represented by bits in computer memory, so sometimes their representation isn't exact. If you compare numbers that have been operated on to precise floating point values, you may find unexpected results."
   ]
  },
  {
   "cell_type": "code",
   "execution_count": null,
   "id": "53891560-adc1-4df4-b959-d47b6f18ff5a",
   "metadata": {
    "tags": []
   },
   "outputs": [],
   "source": [
    "0.1 + 0.1 + 0.1 == 0.3"
   ]
  },
  {
   "cell_type": "markdown",
   "id": "9ddb6394-70f2-45d3-87c1-3833f42855c8",
   "metadata": {},
   "source": [
    "Keep this in mind when working with and comparing floats in Python. See the link below for a more detailed explanation:\n",
    "https://docs.python.org/3/tutorial/floatingpoint.html"
   ]
  },
  {
   "cell_type": "markdown",
   "id": "244d01c4-61d3-43f3-b5be-aec1881e7003",
   "metadata": {},
   "source": [
    "[Return to top](#top)\n",
    "\n",
    "<a id=\"strings\"></a>\n",
    "\n",
    "## 3. Strings\n",
    "\n",
    "Strings are a group of zero or more characters. They typically are used to represent human-readable text, but can store shorthand information too."
   ]
  },
  {
   "cell_type": "code",
   "execution_count": null,
   "id": "e6a1a727-cccd-43f8-aa3d-9dd215d8c9fe",
   "metadata": {
    "tags": []
   },
   "outputs": [],
   "source": [
    "message = \"Hello world!\""
   ]
  },
  {
   "cell_type": "code",
   "execution_count": null,
   "id": "3f151f2a-a98a-4a68-aecf-a6d56c6387d8",
   "metadata": {
    "tags": []
   },
   "outputs": [],
   "source": [
    "message"
   ]
  },
  {
   "cell_type": "markdown",
   "id": "6a1a7bc1-52c1-4c29-b6b0-fafaaef1e24c",
   "metadata": {},
   "source": [
    "Stings can be operated on with math operators `+` and `*`, but not `-` or `/`."
   ]
  },
  {
   "cell_type": "code",
   "execution_count": null,
   "id": "99f7fb64-c50b-4a0a-a940-f8807f7b414f",
   "metadata": {
    "tags": []
   },
   "outputs": [],
   "source": [
    "message + \" \" + message"
   ]
  },
  {
   "cell_type": "code",
   "execution_count": null,
   "id": "001c24db-735a-452d-9d76-32df1f1f69f3",
   "metadata": {
    "tags": []
   },
   "outputs": [],
   "source": [
    "message * 5"
   ]
  },
  {
   "cell_type": "markdown",
   "id": "cbce6777-9d1f-4b75-be77-fce5dd63c9da",
   "metadata": {},
   "source": [
    "[Return to top](#top)\n",
    "\n",
    "<a id=\"booleans\"></a>\n",
    "\n",
    "## 4. Booleans\n",
    "\n",
    "Booleans are true and false values, specified by the keywords `True` and `False`. There are some pitfalls with using booleans and testing for \"truthiness\" in Python that is beyond the scope of this notebook. Comparisons return boolean values, which can be used to determine if a following operation should be carried out."
   ]
  },
  {
   "cell_type": "code",
   "execution_count": null,
   "id": "8eeac724-093f-4b05-8c53-b68d6d1eb6e7",
   "metadata": {
    "tags": []
   },
   "outputs": [],
   "source": [
    "True"
   ]
  },
  {
   "cell_type": "code",
   "execution_count": null,
   "id": "cf837311-55e5-4f2d-a142-6ee82a2d59fd",
   "metadata": {
    "tags": []
   },
   "outputs": [],
   "source": [
    "False"
   ]
  },
  {
   "cell_type": "code",
   "execution_count": null,
   "id": "bfc007ec-4f39-497e-b13b-b064e9d02856",
   "metadata": {
    "tags": []
   },
   "outputs": [],
   "source": [
    "True == 1"
   ]
  },
  {
   "cell_type": "code",
   "execution_count": null,
   "id": "0a0be9f5-2466-46d2-8e0c-f700113f2270",
   "metadata": {
    "tags": []
   },
   "outputs": [],
   "source": [
    "False == 0"
   ]
  },
  {
   "cell_type": "markdown",
   "id": "3ab83dd8-1dec-438e-aa58-10baf3ba7781",
   "metadata": {},
   "source": [
    "The `not` keyword inverts a boolean."
   ]
  },
  {
   "cell_type": "code",
   "execution_count": null,
   "id": "97b3b6e6-b6ff-4334-89da-3fd9a0dbae23",
   "metadata": {
    "tags": []
   },
   "outputs": [],
   "source": [
    "not True"
   ]
  },
  {
   "cell_type": "code",
   "execution_count": null,
   "id": "10e2e31a-c38e-42a6-9ca3-b7e439e908ed",
   "metadata": {
    "tags": []
   },
   "outputs": [],
   "source": [
    "not False"
   ]
  },
  {
   "cell_type": "markdown",
   "id": "1f7a546b-07db-4829-bc18-296f85d0fe0f",
   "metadata": {},
   "source": [
    "Comparisons can be made between values, which will return a boolean value."
   ]
  },
  {
   "cell_type": "code",
   "execution_count": null,
   "id": "0d71b08c-3365-43d1-8768-6f811b2b3173",
   "metadata": {
    "tags": []
   },
   "outputs": [],
   "source": [
    "5 > 3"
   ]
  },
  {
   "cell_type": "code",
   "execution_count": null,
   "id": "92a4dfb9-03dd-434b-b9ff-d213c49a13ed",
   "metadata": {
    "tags": []
   },
   "outputs": [],
   "source": [
    "3.2 < 0.0"
   ]
  },
  {
   "cell_type": "markdown",
   "id": "150bda39-4c55-4847-b690-c05bf5f75194",
   "metadata": {},
   "source": [
    "The `is` operator also compares values, but not for equality."
   ]
  },
  {
   "cell_type": "code",
   "execution_count": null,
   "id": "782a25f7-f093-46af-9a3c-7b2fb870cf26",
   "metadata": {
    "tags": []
   },
   "outputs": [],
   "source": [
    "value = None\n",
    "value is None"
   ]
  },
  {
   "cell_type": "code",
   "execution_count": null,
   "id": "d8f6e37f-1533-4449-9993-1fcb1226a745",
   "metadata": {
    "tags": []
   },
   "outputs": [],
   "source": [
    "value = True\n",
    "value is True"
   ]
  },
  {
   "cell_type": "markdown",
   "id": "7ef3c3d7-06e5-4661-97f2-92a5a945617b",
   "metadata": {
    "tags": []
   },
   "source": [
    "[Return to top](#top)\n",
    "\n",
    "## [Jump to data types](#data-types)\n",
    "\n",
    "## [Jump to control flow](#control-flow)\n",
    "\n",
    "<a id=\"data-structures\"></a>\n",
    "\n",
    "# Data structures\n",
    "\n",
    "1. [Lists](#lists)\n",
    "2. [Tuples](#tuples)\n",
    "3. [Dictionaries](#dictionaries)\n",
    "4. [Mutability](#mutability)\n",
    "\n",
    "Python has data structures in which you can store multiple pieces of data."
   ]
  },
  {
   "cell_type": "markdown",
   "id": "389cd4d9-899c-4972-9249-8b4ba185838c",
   "metadata": {},
   "source": [
    "<a id=\"lists\"></a>\n",
    "\n",
    "## 1. Lists\n",
    "\n",
    "Lists store multiple pieces of data and can be operated on in various ways."
   ]
  },
  {
   "cell_type": "code",
   "execution_count": null,
   "id": "0a4e9533-c0df-4bcd-b6d4-c84cc7dcaf56",
   "metadata": {
    "tags": []
   },
   "outputs": [],
   "source": [
    "lst = [5, 1, 9, 7.2, \"Hello world!\"]"
   ]
  },
  {
   "cell_type": "code",
   "execution_count": null,
   "id": "7a747196-5176-48af-8f87-8e1d2cdbed9d",
   "metadata": {
    "tags": []
   },
   "outputs": [],
   "source": [
    "lst"
   ]
  },
  {
   "cell_type": "markdown",
   "id": "994f0088-4cc1-438c-9755-5d4371f22944",
   "metadata": {},
   "source": [
    "You can select an item in the list using an integer as an index. Python has zero-based indexing, so the first item in the list is at `0`, the second is at `1`, and so on."
   ]
  },
  {
   "cell_type": "code",
   "execution_count": null,
   "id": "76dc486a-cd52-4754-b1a3-bc93b639cb57",
   "metadata": {
    "tags": []
   },
   "outputs": [],
   "source": [
    "lst[0]"
   ]
  },
  {
   "cell_type": "code",
   "execution_count": null,
   "id": "d8fc434d-d766-4b25-98c7-cf45e6ccab88",
   "metadata": {
    "tags": []
   },
   "outputs": [],
   "source": [
    "lst[4]"
   ]
  },
  {
   "cell_type": "markdown",
   "id": "e1806dc6-ca77-47c7-aa6d-39bef4a72fd2",
   "metadata": {
    "tags": []
   },
   "source": [
    "Multiple items can be selected using slicing via the `:` operator."
   ]
  },
  {
   "cell_type": "code",
   "execution_count": null,
   "id": "a954c0fb-8897-43ab-93e2-3275dc0d549b",
   "metadata": {
    "tags": []
   },
   "outputs": [],
   "source": [
    "lst[1:4]"
   ]
  },
  {
   "cell_type": "markdown",
   "id": "95655145-e0cb-4170-b835-15b5b5319958",
   "metadata": {},
   "source": [
    "Notice that the slice selected above begins at index `1`, but ends at `3`, so slicing is non-inclusive of the final index."
   ]
  },
  {
   "cell_type": "markdown",
   "id": "69e2ddc6-b920-4712-b8ba-4f0d212f18bb",
   "metadata": {},
   "source": [
    "Lists can be modified by assigning values to indexes."
   ]
  },
  {
   "cell_type": "code",
   "execution_count": null,
   "id": "a58f7afb-69e7-4324-bc11-f0a39f62cffa",
   "metadata": {
    "tags": []
   },
   "outputs": [],
   "source": [
    "lst[2] = 1000"
   ]
  },
  {
   "cell_type": "code",
   "execution_count": null,
   "id": "ee086a47-864e-4f97-9932-1d01adf26c0e",
   "metadata": {
    "tags": []
   },
   "outputs": [],
   "source": [
    "lst"
   ]
  },
  {
   "cell_type": "markdown",
   "id": "f3bafbf0-8aa4-4a1a-b183-b75c7f6897cc",
   "metadata": {},
   "source": [
    "[Return to top](#top)\n",
    "\n",
    "<a id=\"tuples\"></a>\n",
    "\n",
    "## 2. Tuples\n",
    "\n",
    "Tuples are similar to lists, but they cannot be modified after they are created."
   ]
  },
  {
   "cell_type": "code",
   "execution_count": null,
   "id": "6754172f-4e51-45da-adf4-1908a0948a82",
   "metadata": {
    "tags": []
   },
   "outputs": [],
   "source": [
    "tup = (\"Hello\", \"world\")"
   ]
  },
  {
   "cell_type": "markdown",
   "id": "bf317c9b-8531-4ddd-b639-08996252666b",
   "metadata": {},
   "source": [
    "However, the individual items in a tuple can be modified."
   ]
  },
  {
   "cell_type": "code",
   "execution_count": null,
   "id": "6675e35e-e45b-4447-b566-ba8ffb3253c7",
   "metadata": {
    "tags": []
   },
   "outputs": [],
   "source": [
    "tup[1] + \"!\""
   ]
  },
  {
   "cell_type": "markdown",
   "id": "9dbb56ba-5caa-4aab-8746-cf80b1761654",
   "metadata": {},
   "source": [
    "Tuples are useful for storing small amounts of data that are related and that shouldn't be modified. A real-world example might describe a physical location on Earth, giving its name, latitude, and longitude."
   ]
  },
  {
   "cell_type": "code",
   "execution_count": null,
   "id": "86e408c7-3446-44c2-be06-9fd972136a51",
   "metadata": {
    "tags": []
   },
   "outputs": [],
   "source": [
    "location = (\"Lubbock\", 33.67, 101.82)"
   ]
  },
  {
   "cell_type": "code",
   "execution_count": null,
   "id": "05bfa3a4-3211-4fe3-8843-3c23e03b1350",
   "metadata": {
    "tags": []
   },
   "outputs": [],
   "source": [
    "location"
   ]
  },
  {
   "cell_type": "markdown",
   "id": "3ff547ab-0a10-4ffc-8e4e-c5fa8cac3c2e",
   "metadata": {},
   "source": [
    "[Return to top](#top)\n",
    "\n",
    "<a id=\"dictionaries\"></a>\n",
    "\n",
    "## 3. Dictionaries\n",
    "\n",
    "Dictionaries can be thought of as labeled data pairs, where the first value is called the \"key\" and the second the \"item\"."
   ]
  },
  {
   "cell_type": "code",
   "execution_count": null,
   "id": "72aa0924-63f8-40d4-9ace-ce1533ac7e9f",
   "metadata": {
    "tags": []
   },
   "outputs": [],
   "source": [
    "dct = {\"Location\": \"Lubbock\", \"Latitude\": 33.67, \"Longitude\": 101.82}"
   ]
  },
  {
   "cell_type": "code",
   "execution_count": null,
   "id": "796c24d2-7fa1-4399-8454-e8dca342beef",
   "metadata": {
    "tags": []
   },
   "outputs": [],
   "source": [
    "dct"
   ]
  },
  {
   "cell_type": "markdown",
   "id": "43dea6b1-49ed-4a98-b72b-9c1a58f2c9e9",
   "metadata": {},
   "source": [
    "Unlike tuples, dictionaries can be modified. A new key and value can be added similar to index notation in lists and tuples."
   ]
  },
  {
   "cell_type": "code",
   "execution_count": null,
   "id": "0ad5d316-0be6-4660-9d39-2fb8cc68d6ef",
   "metadata": {
    "tags": []
   },
   "outputs": [],
   "source": [
    "dct[\"Altitude\"] = \"3281 feet\""
   ]
  },
  {
   "cell_type": "code",
   "execution_count": null,
   "id": "8bfa4725-a6ab-4db6-a1a0-1493d0c9981a",
   "metadata": {
    "tags": []
   },
   "outputs": [],
   "source": [
    "dct"
   ]
  },
  {
   "cell_type": "markdown",
   "id": "09c3ca01-24de-47ea-b93a-8e52b2ab8912",
   "metadata": {},
   "source": [
    "Items in the dictionary can also be modified."
   ]
  },
  {
   "cell_type": "code",
   "execution_count": null,
   "id": "d3dc5da6-7b87-4d92-9445-290a5c30d060",
   "metadata": {
    "tags": []
   },
   "outputs": [],
   "source": [
    "dct[\"Location\"] = \"Lubbock, TX\""
   ]
  },
  {
   "cell_type": "code",
   "execution_count": null,
   "id": "a3d8f034-6b22-46d0-9e08-6e0fe51497c8",
   "metadata": {
    "tags": []
   },
   "outputs": [],
   "source": [
    "dct"
   ]
  },
  {
   "cell_type": "markdown",
   "id": "acd1d365-534e-4358-8a2e-d36bd112c224",
   "metadata": {},
   "source": [
    "[Return to top](#top)\n",
    "\n",
    "<a id=\"mutability\"></a>\n",
    "\n",
    "## 4. Mutability\n",
    "\n",
    "Whether or not a data structure or type can be modified is referred to as *mutability*. A *mutable* data type can be modified, while an *immutable* data type cannot be modified.\n",
    "\n",
    "Mutable data types include:\n",
    "* Integers `int`\n",
    "* Floats `float`\n",
    "* Lists `list`\n",
    "* Dictionaries `dict`\n",
    "\n",
    "Immutable data types include:\n",
    "* Strings `str`\n",
    "* Tuples `tuple`\n",
    "\n",
    "Data type can be checked using the `type()` function."
   ]
  },
  {
   "cell_type": "code",
   "execution_count": null,
   "id": "23d5af5f-e1ae-47f1-8ef1-c48b61d75cf1",
   "metadata": {
    "tags": []
   },
   "outputs": [],
   "source": [
    "type(dct)"
   ]
  },
  {
   "cell_type": "markdown",
   "id": "253b39d7-f64e-46ce-b3ca-4a5644e523e9",
   "metadata": {},
   "source": [
    "Mutability is important to keep in mind when passing arguments to functions. If a function modifies a mutable variable, the variable will keep that change whether or not the function returns the variable."
   ]
  },
  {
   "cell_type": "markdown",
   "id": "42ce213b-6b11-401a-9d0f-278cd8390671",
   "metadata": {
    "tags": []
   },
   "source": [
    "[Return to top](#top)\n",
    "\n",
    "## [Jump to data types](#data-types)\n",
    "\n",
    "## [Jump to data structures](#data-structures)\n",
    "\n",
    "<a id=\"control-flow\"></a>\n",
    "\n",
    "# Control Flow\n",
    "\n",
    "Like other programming languages, Python has control flow keywords to help determine what to do and repeat in a program.\n",
    "\n",
    "1. [Conditionals](#conditionals)\n",
    "2. [Functions](#functions)\n",
    "3. [Loops](#loops)\n",
    "\n",
    "<a id=\"conditionals\"></a>\n",
    "\n",
    "## 1. Conditionals\n",
    "\n",
    "Conditional statements take the form of if, then, and else. Booleans (`True` or `False`) are used to evaluate conditionals."
   ]
  },
  {
   "cell_type": "code",
   "execution_count": null,
   "id": "bd5156d8-b0c2-4837-a6ca-1146ae9a56fb",
   "metadata": {
    "tags": []
   },
   "outputs": [],
   "source": [
    "value = 10\n",
    "\n",
    "if value == 5:\n",
    "    print(\"The value is equal to 5\")\n",
    "else:\n",
    "    print(\"The value is not equal to 5\")"
   ]
  },
  {
   "cell_type": "markdown",
   "id": "b2733d37-053d-4522-a616-b01231e60fac",
   "metadata": {},
   "source": [
    "Notice that equality between numbers is checked with `==`. Other mathmatical comparisons include:\n",
    "* Less than `<`\n",
    "* Greater than `>`\n",
    "* Less than or equal to `<=`\n",
    "* Greater than or equal to `>=`\n",
    "\n",
    "Conditionals can be combined with `and` or `or` statements. The example below shows a calculation of wind chill temperature using two conditionals connected by an `and`."
   ]
  },
  {
   "cell_type": "code",
   "execution_count": null,
   "id": "0c566c03-abd9-463f-81c9-7766b3ef3d71",
   "metadata": {
    "tags": []
   },
   "outputs": [],
   "source": [
    "temperature = 25\n",
    "wind_speed = 12\n",
    "\n",
    "if temperature < 32 and wind_speed > 3:\n",
    "    wind_chill = 35.74 + 0.6215 * temperature - 35.75 * wind_speed ** 0.16 \\\n",
    "    + 0.4275 * temperature * wind_speed ** 0.16\n",
    "else:\n",
    "    wind_chill = temperature\n",
    "    \n",
    "print(f\"The wind chill is {wind_chill:.2f} degrees F\")"
   ]
  },
  {
   "cell_type": "markdown",
   "id": "3a7f4fc9-eec2-4d4d-a2f2-59717e60e9a1",
   "metadata": {
    "tags": []
   },
   "source": [
    "[Return to top](#top)\n",
    "\n",
    "<a id=\"functions\"></a>\n",
    "\n",
    "## 2. Functions\n",
    "\n",
    "Instead of calculating wind chill as in the conditional above, a function can be defined for arbitrary values of temperature and wind speed."
   ]
  },
  {
   "cell_type": "code",
   "execution_count": null,
   "id": "37c4fd98-f0de-40e9-a00c-69b7b20c403b",
   "metadata": {
    "tags": []
   },
   "outputs": [],
   "source": [
    "def calc_wind_chill(temperature, wind_speed):\n",
    "    \"\"\"Calculate wind chill temperature.\n",
    "    \n",
    "    https://www.calculator.net/wind-chill-calculator.html\n",
    "    \n",
    "    Parameters\n",
    "    ----------\n",
    "    temperature : float\n",
    "        Air temperature in degrees Fahrenheit.\n",
    "    wind_speed : float\n",
    "        Wind speed in miles per hour.\n",
    "    \n",
    "    Returns\n",
    "    -------\n",
    "    float\n",
    "    \"\"\"\n",
    "    if temperature < 32 and wind_speed > 3:\n",
    "        wind_chill = 35.74 + 0.6215 * temperature - 35.75 * wind_speed ** 0.16 \\\n",
    "        + 0.4275 * temperature * wind_speed ** 0.16\n",
    "    else:\n",
    "        wind_chill = temperature\n",
    "    \n",
    "    return wind_chill"
   ]
  },
  {
   "cell_type": "markdown",
   "id": "7c40b7e3-d7a6-4d37-87c4-0f5e42d50038",
   "metadata": {},
   "source": [
    "Then, the conditional above becomes the following:"
   ]
  },
  {
   "cell_type": "code",
   "execution_count": null,
   "id": "9d323898-5d6b-4584-aa95-f77f5d0c86ff",
   "metadata": {
    "tags": []
   },
   "outputs": [],
   "source": [
    "temperature = 25\n",
    "wind_speed = 12\n",
    "\n",
    "wind_chill = calc_wind_chill(temperature, wind_speed)\n",
    "    \n",
    "print(f\"The wind chill is {wind_chill:.2f} degrees F\")"
   ]
  },
  {
   "cell_type": "markdown",
   "id": "1d9b56cf-8597-4d2c-ada1-f71054b7e7a9",
   "metadata": {},
   "source": [
    "Try modifying the values of `temperature` and `wind_speed` to see how the results change."
   ]
  },
  {
   "cell_type": "markdown",
   "id": "fafe4937-022b-46bc-a844-97facbd33773",
   "metadata": {
    "tags": []
   },
   "source": [
    "[Return to top](#top)\n",
    "\n",
    "<a id=\"loops\"></a>\n",
    "\n",
    "## 3. Loops\n",
    "\n",
    "Say there are multiple values of temperature and wind speed. To calculate wind chill for each, a list can be iterated over using a `for` loop. The `zip` function is used to iterate over two lists at a time."
   ]
  },
  {
   "cell_type": "code",
   "execution_count": null,
   "id": "08eb70d4-461f-41cb-a4d9-2d91809b0d7f",
   "metadata": {
    "tags": []
   },
   "outputs": [],
   "source": [
    "temperature = [10, 14, 25, 32, 40]\n",
    "wind_speed = [12, 16, 2, 5, 10]\n",
    "\n",
    "for tmp, ws in zip(temperature, wind_speed):\n",
    "    wind_chill = calc_wind_chill(tmp, ws)\n",
    "    print(\n",
    "        f\"The wind chill is {wind_chill:.2f} degrees F for a temperature of {tmp}\"\n",
    "        \"degrees F and wind speed of {ws} mph\"\n",
    "    )"
   ]
  },
  {
   "cell_type": "code",
   "execution_count": null,
   "id": "f68bd6b0-7d38-44d1-8e57-f5048b5a731d",
   "metadata": {},
   "outputs": [],
   "source": []
  }
 ],
 "metadata": {
  "kernelspec": {
   "display_name": "Python 3 (ipykernel)",
   "language": "python",
   "name": "python3"
  },
  "language_info": {
   "codemirror_mode": {
    "name": "ipython",
    "version": 3
   },
   "file_extension": ".py",
   "mimetype": "text/x-python",
   "name": "python",
   "nbconvert_exporter": "python",
   "pygments_lexer": "ipython3",
   "version": "3.11.0"
  }
 },
 "nbformat": 4,
 "nbformat_minor": 5
}
