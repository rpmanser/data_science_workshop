{
 "cells": [
  {
   "cell_type": "markdown",
   "id": "f9f5d7cf-5eb8-4f76-ab3c-cab81323d08a",
   "metadata": {},
   "source": [
    "<a id=\"top\"></a>\n",
    "# Numpy and Matplotlib\n",
    "\n",
    "This notebook introduces you to two essential libraries for working with and displaying numerical data in Python: NumPy and Matplotlib, respectively.\n",
    "\n",
    "## Introduction to NumPy\n",
    "\n",
    "<img src=\"https://numpy.org/images/logo.svg\" width=100/>\n",
    "\n",
    "NumPy is a Python library that enables users to create multi-dimensional arrays, manipulate them, and perorm simple and complex mathematical operations on those arrays.\n",
    "\n",
    "1. [Array creation and indexing](#array-creation)\n",
    "2. [Multi-dimensional arrays](#multi-dimensional)\n",
    "3. [Array methods](#methods)\n",
    "4. [Array mathematics and constants](#math)\n",
    "5. [Advanced indexing](#advanced-indexing)\n",
    "\n",
    "## Exercises\n",
    "[Exercise 1](#exercise1)\n",
    "\n",
    "## [Jump to Matplotlib](#matplotlib)"
   ]
  },
  {
   "cell_type": "markdown",
   "id": "4425a47d-c0b0-44e4-b8fc-add6f00fb369",
   "metadata": {
    "tags": []
   },
   "source": [
    "<a id=\"array-creation\"></a>\n",
    "## 1. Array creation and indexing"
   ]
  },
  {
   "cell_type": "code",
   "execution_count": null,
   "id": "125d7ef6-0fe0-4d07-9276-a67616898e52",
   "metadata": {},
   "outputs": [],
   "source": [
    "import numpy as np"
   ]
  },
  {
   "cell_type": "code",
   "execution_count": null,
   "id": "eb4527b4-0fca-41a7-9e5e-b3d55fcd9689",
   "metadata": {},
   "outputs": [],
   "source": [
    "arr = np.array([1, 2, 3, 4, 5, 6])"
   ]
  },
  {
   "cell_type": "code",
   "execution_count": null,
   "id": "595b015e-c143-4022-9c61-ec601ad3ae83",
   "metadata": {
    "tags": []
   },
   "outputs": [],
   "source": [
    "arr"
   ]
  },
  {
   "cell_type": "code",
   "execution_count": null,
   "id": "dd727314-8114-4354-9f3c-d051a9396bec",
   "metadata": {
    "tags": []
   },
   "outputs": [],
   "source": [
    "type(arr)"
   ]
  },
  {
   "cell_type": "code",
   "execution_count": null,
   "id": "8ff781db-9084-4ae2-982d-aa06356fb1e5",
   "metadata": {},
   "outputs": [],
   "source": [
    "arr[0]"
   ]
  },
  {
   "cell_type": "code",
   "execution_count": null,
   "id": "934bc623-25ed-4c50-a4ab-9a8767e8b1c3",
   "metadata": {},
   "outputs": [],
   "source": [
    "arr[1:3]"
   ]
  },
  {
   "cell_type": "code",
   "execution_count": null,
   "id": "23a3669a-5710-43f2-bdbb-ecfa2f7f1df1",
   "metadata": {},
   "outputs": [],
   "source": [
    "arr[:-1]"
   ]
  },
  {
   "cell_type": "code",
   "execution_count": null,
   "id": "cdfa9849-2e65-4305-b13c-13c79b347d08",
   "metadata": {},
   "outputs": [],
   "source": [
    "arr[3:]"
   ]
  },
  {
   "cell_type": "code",
   "execution_count": null,
   "id": "05e0f756-17c2-4f78-a3bb-6fea270cc3d2",
   "metadata": {},
   "outputs": [],
   "source": [
    "arr[::2]"
   ]
  },
  {
   "cell_type": "code",
   "execution_count": null,
   "id": "e9451097-efc6-47ae-8279-cb5ced5efe16",
   "metadata": {
    "tags": []
   },
   "outputs": [],
   "source": [
    "np.arange(10)"
   ]
  },
  {
   "cell_type": "code",
   "execution_count": null,
   "id": "ed516606-754a-4422-8112-b72b947745eb",
   "metadata": {
    "tags": []
   },
   "outputs": [],
   "source": [
    "np.linspace(5, 15, 5)"
   ]
  },
  {
   "cell_type": "code",
   "execution_count": null,
   "id": "86d1e4e5-4993-4b19-b218-8597915898a8",
   "metadata": {
    "tags": []
   },
   "outputs": [],
   "source": [
    "np.linspace(0, 13, 8)"
   ]
  },
  {
   "cell_type": "code",
   "execution_count": null,
   "id": "aa4089ef-ef69-4220-bd11-16bf8c0e985f",
   "metadata": {
    "tags": []
   },
   "outputs": [],
   "source": [
    "np.zeros(10)"
   ]
  },
  {
   "cell_type": "code",
   "execution_count": null,
   "id": "21e30a5d-2c3a-40e2-af6b-e8350b6401a1",
   "metadata": {
    "tags": []
   },
   "outputs": [],
   "source": [
    "np.ones((10, 10))"
   ]
  },
  {
   "cell_type": "markdown",
   "id": "c4a322b9-7999-4837-b8fd-fcc9c78f2504",
   "metadata": {
    "tags": []
   },
   "source": [
    "[Return to top](#top)\n",
    "\n",
    "<a id=\"multi-dimensional\"></a>\n",
    "## 2. Multi-dimensional arrays and array shape"
   ]
  },
  {
   "cell_type": "code",
   "execution_count": null,
   "id": "7503496b-7d23-4643-8463-259d3a2720bb",
   "metadata": {
    "tags": []
   },
   "outputs": [],
   "source": [
    "arr = np.arange(1, 7)"
   ]
  },
  {
   "cell_type": "code",
   "execution_count": null,
   "id": "c9380943-d2cd-46e0-a0c9-71908b10bade",
   "metadata": {},
   "outputs": [],
   "source": [
    "arr.shape"
   ]
  },
  {
   "cell_type": "code",
   "execution_count": null,
   "id": "035e94b0-5ee6-4e4d-97b3-3ea07d0245eb",
   "metadata": {
    "tags": []
   },
   "outputs": [],
   "source": [
    "arr.reshape((2, 3))"
   ]
  },
  {
   "cell_type": "code",
   "execution_count": null,
   "id": "1c8e653c-3ca9-4c3f-8920-7970de2a1804",
   "metadata": {},
   "outputs": [],
   "source": [
    "arr.reshape((2, 3))[0, :]"
   ]
  },
  {
   "cell_type": "code",
   "execution_count": null,
   "id": "5e520452-fb41-435a-a87f-0c37346fc224",
   "metadata": {},
   "outputs": [],
   "source": [
    "arr[:, np.newaxis]"
   ]
  },
  {
   "cell_type": "code",
   "execution_count": null,
   "id": "5bb56296-c2bf-44be-a96e-3123ac41dfdb",
   "metadata": {},
   "outputs": [],
   "source": [
    "arr[:, np.newaxis].shape"
   ]
  },
  {
   "cell_type": "markdown",
   "id": "709c27ef-7b95-4019-a137-3fbbc6b5e907",
   "metadata": {
    "tags": []
   },
   "source": [
    "[Return to top](#top)\n",
    "\n",
    "<a id=\"methods\"></a>\n",
    "## 3. Array methods"
   ]
  },
  {
   "cell_type": "code",
   "execution_count": null,
   "id": "4d4f912f-1744-429a-9e9f-c519b2ff51c0",
   "metadata": {
    "tags": []
   },
   "outputs": [],
   "source": [
    "arr = np.arange(1, 7)"
   ]
  },
  {
   "cell_type": "code",
   "execution_count": null,
   "id": "095d59d1-c349-4b0b-b123-9b4ddac9d388",
   "metadata": {},
   "outputs": [],
   "source": [
    "arr.mean()"
   ]
  },
  {
   "cell_type": "code",
   "execution_count": null,
   "id": "1c4d4f3c-3eca-4988-81b1-9c855e0a6b12",
   "metadata": {},
   "outputs": [],
   "source": [
    "arr.reshape((2, 3)).mean()"
   ]
  },
  {
   "cell_type": "code",
   "execution_count": null,
   "id": "f2032c37-9052-44d2-9895-868dda0f0767",
   "metadata": {},
   "outputs": [],
   "source": [
    "arr.reshape((2, 3)).mean(axis=0)"
   ]
  },
  {
   "cell_type": "code",
   "execution_count": null,
   "id": "7cd035ec-3f42-4203-a738-927a29715dac",
   "metadata": {},
   "outputs": [],
   "source": [
    "arr.std()"
   ]
  },
  {
   "cell_type": "code",
   "execution_count": null,
   "id": "413135c3-c084-4b1a-95d0-2eb2b6243a8e",
   "metadata": {},
   "outputs": [],
   "source": [
    "arr.max()"
   ]
  },
  {
   "cell_type": "code",
   "execution_count": null,
   "id": "74d48c4f-918f-4b70-b503-ade63fd2dd89",
   "metadata": {},
   "outputs": [],
   "source": [
    "arr.min()"
   ]
  },
  {
   "cell_type": "markdown",
   "id": "5adc8931-b813-4474-a273-d28cdfea878c",
   "metadata": {
    "tags": []
   },
   "source": [
    "[Return to top](#top)\n",
    "\n",
    "<a id=\"math\"></a>\n",
    "## 4. Array mathematics and constants"
   ]
  },
  {
   "cell_type": "code",
   "execution_count": null,
   "id": "a528c90b-b2fb-48eb-a771-ef2028940465",
   "metadata": {},
   "outputs": [],
   "source": [
    "arr1 = np.array([1, 2, 3, 4, 5, 6]).reshape(2, 3)\n",
    "arr2 = np.array([7, 8, 9, 10, 11, 12]).reshape(2, 3)"
   ]
  },
  {
   "cell_type": "code",
   "execution_count": null,
   "id": "3438f918-2e86-45a4-98bd-d9b5b7b5e87d",
   "metadata": {},
   "outputs": [],
   "source": [
    "arr1 + arr2"
   ]
  },
  {
   "cell_type": "code",
   "execution_count": null,
   "id": "8e6a2eb5-6d92-484b-9d25-0096b0c15103",
   "metadata": {},
   "outputs": [],
   "source": [
    "arr1 * arr2"
   ]
  },
  {
   "cell_type": "code",
   "execution_count": null,
   "id": "719626a8-8d7f-48d3-a5c5-3ecc831301f1",
   "metadata": {},
   "outputs": [],
   "source": [
    "arr1 * 5"
   ]
  },
  {
   "cell_type": "code",
   "execution_count": null,
   "id": "8ae449e8-23ec-4569-a8cc-55c75dd6ec40",
   "metadata": {},
   "outputs": [],
   "source": [
    "arr1 ** 2"
   ]
  },
  {
   "cell_type": "code",
   "execution_count": null,
   "id": "647f170f-cdec-4c2e-b85a-871ca32e64ff",
   "metadata": {},
   "outputs": [],
   "source": [
    "np.dot(arr1, arr2.reshape((3, 2)))"
   ]
  },
  {
   "cell_type": "code",
   "execution_count": null,
   "id": "5b9cbdda-2d00-4c1b-9c3a-006902657c84",
   "metadata": {},
   "outputs": [],
   "source": [
    "np.cross(arr1, arr2)"
   ]
  },
  {
   "cell_type": "code",
   "execution_count": null,
   "id": "ca7d72fa-50ba-4ec9-8a87-4e1ac0d82c70",
   "metadata": {
    "tags": []
   },
   "outputs": [],
   "source": [
    "arr1 = np.arange(1, 11).reshape(2, 5)\n",
    "arr2 = np.arange(11, 16)"
   ]
  },
  {
   "cell_type": "code",
   "execution_count": null,
   "id": "15dec792-0e36-43d7-b6db-4478870c87f6",
   "metadata": {
    "tags": []
   },
   "outputs": [],
   "source": [
    "arr1"
   ]
  },
  {
   "cell_type": "code",
   "execution_count": null,
   "id": "5531ae03-7d5a-421e-9ade-91d2849873ee",
   "metadata": {
    "tags": []
   },
   "outputs": [],
   "source": [
    "arr2"
   ]
  },
  {
   "cell_type": "code",
   "execution_count": null,
   "id": "59de6aba-fa5c-4461-ba91-6cc7c64952d5",
   "metadata": {
    "tags": []
   },
   "outputs": [],
   "source": [
    "arr1 * arr2"
   ]
  },
  {
   "cell_type": "code",
   "execution_count": null,
   "id": "06e65733-f4d2-4286-a7c1-c3ff07d18067",
   "metadata": {
    "tags": []
   },
   "outputs": [],
   "source": [
    "np.pi"
   ]
  },
  {
   "cell_type": "code",
   "execution_count": null,
   "id": "215d646d-00d0-4590-9f47-a4728955a831",
   "metadata": {
    "tags": []
   },
   "outputs": [],
   "source": [
    "np.e"
   ]
  },
  {
   "cell_type": "code",
   "execution_count": null,
   "id": "c7beb3ae-61b4-4d07-8b30-28a73ba739fb",
   "metadata": {
    "tags": []
   },
   "outputs": [],
   "source": [
    "x = np.arange(0, 10 * np.pi + np.pi / 8, np.pi / 8)\n",
    "y = np.sin(x)"
   ]
  },
  {
   "cell_type": "code",
   "execution_count": null,
   "id": "47aa9b6b-99c2-4020-b0a3-0187610e0eb2",
   "metadata": {
    "tags": []
   },
   "outputs": [],
   "source": [
    "x"
   ]
  },
  {
   "cell_type": "code",
   "execution_count": null,
   "id": "b3c0a1a1-8fae-464b-90d1-b58846242e6a",
   "metadata": {
    "tags": []
   },
   "outputs": [],
   "source": [
    "y"
   ]
  },
  {
   "cell_type": "code",
   "execution_count": null,
   "id": "c253eb64-4d4f-461f-8bae-5fc59ebd7a9d",
   "metadata": {
    "tags": []
   },
   "outputs": [],
   "source": [
    "np.rad2deg(x)"
   ]
  },
  {
   "cell_type": "markdown",
   "id": "0355a530-1c23-4381-a2b5-4d55848b0510",
   "metadata": {
    "tags": []
   },
   "source": [
    "[Return to top](#top)\n",
    "\n",
    "<a id=\"advanced-indexing\"></a>\n",
    "## 5. Advanced indexing"
   ]
  },
  {
   "cell_type": "code",
   "execution_count": null,
   "id": "8b78ca01-8bfd-460e-8a21-018ec56c2fdd",
   "metadata": {
    "tags": []
   },
   "outputs": [],
   "source": [
    "y > 0.8"
   ]
  },
  {
   "cell_type": "code",
   "execution_count": null,
   "id": "36c2a772-f4be-4863-bd9c-d5433b39e13b",
   "metadata": {
    "tags": []
   },
   "outputs": [],
   "source": [
    "y[y > 0.8]"
   ]
  },
  {
   "cell_type": "code",
   "execution_count": null,
   "id": "85fdfa37-658a-4070-83f9-71e590740401",
   "metadata": {
    "tags": []
   },
   "outputs": [],
   "source": [
    "np.where(y > 0.8, np.nan, y)"
   ]
  },
  {
   "cell_type": "code",
   "execution_count": null,
   "id": "0ccf6423-5d87-424b-a5be-9d58a796cb4e",
   "metadata": {
    "tags": []
   },
   "outputs": [],
   "source": [
    "y[~(y > 0.8)]"
   ]
  },
  {
   "cell_type": "code",
   "execution_count": null,
   "id": "6ea88443-c665-4b29-b91d-2f3f61064f71",
   "metadata": {
    "tags": []
   },
   "outputs": [],
   "source": [
    "np.where(~(y > 0.8), np.nan, y)"
   ]
  },
  {
   "cell_type": "code",
   "execution_count": null,
   "id": "fbfb5eea-ce58-45d8-806b-17e2cd5e5579",
   "metadata": {
    "tags": []
   },
   "outputs": [],
   "source": [
    "y[[1, 3, 6]]"
   ]
  },
  {
   "cell_type": "code",
   "execution_count": null,
   "id": "4ecc2e85-e8f5-45ef-9c2f-4c4922f21b57",
   "metadata": {
    "tags": []
   },
   "outputs": [],
   "source": [
    "slc = slice(0, 10, 2)\n",
    "y[slc]"
   ]
  },
  {
   "cell_type": "markdown",
   "id": "45dd0b13-6e6b-400c-a3a8-924bf58c8f1d",
   "metadata": {
    "tags": []
   },
   "source": [
    "<a id=\"exercise1\"></a>\n",
    "## Exercise 1\n",
    "\n",
    "1. Select values from `y` where there are only positive values\n",
    "2. Select every third value from `y`"
   ]
  },
  {
   "cell_type": "markdown",
   "id": "a8226c3c-0392-44c9-a455-01ee215ae390",
   "metadata": {},
   "source": [
    "***\n",
    "[Return to top](#top)\n",
    "\n",
    "<a id=\"matplotlib\"></a>\n",
    "# Introduction to Matplotlib\n",
    "\n",
    "<img src=\"https://matplotlib.org/stable/_static/images/logo2.svg\" width=300/>\n",
    "\n",
    "Matplotlib provides an interface for visualizing data in Python.\n",
    "\n",
    "1. [Basic plotting](#basic)\n",
    "2. [Plotting two-dimensional data](#two-d)\n",
    "\n",
    "### Exercises\n",
    "[Exercise 2](#exercise2)<br>\n",
    "[Exercise 3](#exercise3)"
   ]
  },
  {
   "cell_type": "markdown",
   "id": "a9bb48a4-10b5-4092-b38b-46826e1fdd5c",
   "metadata": {},
   "source": [
    "<a id=\"basic\"></a>\n",
    "## 1. Basic plotting"
   ]
  },
  {
   "cell_type": "code",
   "execution_count": null,
   "id": "f8e281cb-ff80-489d-9608-9f06dc59dd65",
   "metadata": {
    "tags": []
   },
   "outputs": [],
   "source": [
    "import numpy as np\n",
    "import matplotlib.pyplot as plt"
   ]
  },
  {
   "cell_type": "code",
   "execution_count": null,
   "id": "7d28c2e8-b5e0-4cdc-b35a-70671be151fd",
   "metadata": {
    "tags": []
   },
   "outputs": [],
   "source": [
    "x = np.arange(-10.0, 10.0, 0.01)\n",
    "y = np.sin(x)\n",
    "\n",
    "plt.plot(x, y)"
   ]
  },
  {
   "cell_type": "code",
   "execution_count": null,
   "id": "3f3954ce-c464-495f-9b11-723e150586db",
   "metadata": {
    "tags": []
   },
   "outputs": [],
   "source": [
    "fig, ax = plt.subplots(figsize=(8, 6))\n",
    "\n",
    "ax.plot(x, y)\n",
    "ax.grid()\n",
    "ax.set_xlabel(\"x\")\n",
    "ax.set_ylabel(\"y\")"
   ]
  },
  {
   "cell_type": "code",
   "execution_count": null,
   "id": "b60261a4-7337-4a3d-a5e9-f5c39fce6194",
   "metadata": {
    "tags": []
   },
   "outputs": [],
   "source": [
    "fig, ax = plt.subplots(figsize=(8, 6))\n",
    "\n",
    "ax.plot(x, y)\n",
    "ax.grid()\n",
    "ax.set_xlabel(\"x\", fontsize=20)\n",
    "ax.set_ylabel(\"y\", fontsize=20)"
   ]
  },
  {
   "cell_type": "code",
   "execution_count": null,
   "id": "a4326172-e8c4-4d3a-ac6b-65831573c72e",
   "metadata": {
    "tags": []
   },
   "outputs": [],
   "source": [
    "fig, ax = plt.subplots(figsize=(8, 6))\n",
    "\n",
    "ax.plot(x, y, color=\"red\", linewidth=5)\n",
    "ax.grid()\n",
    "ax.set_xlabel(\"x\", fontsize=20)\n",
    "ax.set_ylabel(\"y\", fontsize=20)"
   ]
  },
  {
   "cell_type": "code",
   "execution_count": null,
   "id": "1cc6d0e2-3e19-465a-b58c-a5f639d6beaf",
   "metadata": {
    "tags": []
   },
   "outputs": [],
   "source": [
    "x = np.arange(-10.0, 10.0, 0.01)\n",
    "sinx = np.sin(x)\n",
    "cosx = np.cos(x)"
   ]
  },
  {
   "cell_type": "code",
   "execution_count": null,
   "id": "3fce7411-ec0f-45e6-9a7f-d43a24a69aab",
   "metadata": {
    "tags": []
   },
   "outputs": [],
   "source": [
    "fig, ax = plt.subplots(figsize=(8, 6))\n",
    "\n",
    "ax.plot(x, sinx, color=\"red\", linewidth=5, label=\"sin(x)\")\n",
    "ax.plot(x, cosx, color=\"blue\", linewidth=5, label=\"cos(x)\")\n",
    "ax.grid()\n",
    "ax.legend()\n",
    "ax.set_xlabel(\"x\", fontsize=20)\n",
    "ax.set_ylabel(\"y\", fontsize=20)\n",
    "ax.set_title(\"Trigonometric Functions\", fontsize=32)"
   ]
  },
  {
   "cell_type": "code",
   "execution_count": null,
   "id": "5c52ae6b-11ed-4717-bb03-ea264427685c",
   "metadata": {
    "tags": []
   },
   "outputs": [],
   "source": [
    "fig, ax = plt.subplots(figsize=(8, 6))\n",
    "\n",
    "ax.plot(x, sinx, color=\"red\", linewidth=1, label=\"sin(x)\", marker=\"x\", markevery=25)\n",
    "ax.plot(x, cosx, color=\"blue\", linewidth=1, label=\"cos(x)\", marker=\"o\", markevery=25)\n",
    "ax.grid()\n",
    "ax.legend()\n",
    "ax.set_xlabel(\"x\", fontsize=20)\n",
    "ax.set_ylabel(\"y\", fontsize=20)\n",
    "ax.set_title(\"Trigonometric Functions\", fontsize=32)"
   ]
  },
  {
   "cell_type": "markdown",
   "id": "df03659a-7eeb-48d0-906c-bfefcad1630a",
   "metadata": {},
   "source": [
    "[Return to top](#top)\n",
    "\n",
    "<a id=\"exercise2\"></a>\n",
    "## Exercise 2\n",
    "\n",
    "1. Set y-values greater than 0.8 to `np.nan` and plot the resulting sine and cosine curves.\n",
    "2. From the same y-values you plotted above, set y-values less than -0.8 to `np.nan` and plot the new curves."
   ]
  },
  {
   "cell_type": "markdown",
   "id": "a26300ed-3a48-4d00-a4b7-36a43eefe460",
   "metadata": {},
   "source": [
    "[Return to top](#top)\n",
    "\n",
    "<a id=\"two-d\"></a>\n",
    "## 2. Plotting two-dimensional data"
   ]
  },
  {
   "cell_type": "code",
   "execution_count": null,
   "id": "c6747ae9-2a0c-4ddd-81c9-42fe4286aad8",
   "metadata": {
    "tags": []
   },
   "outputs": [],
   "source": [
    "data = np.random.normal(0.0, 1.0, (100, 100))\n",
    "\n",
    "fig, ax = plt.subplots(figsize=(8, 8))\n",
    "\n",
    "pmesh = ax.pcolormesh(data)\n",
    "plt.colorbar(pmesh)"
   ]
  },
  {
   "cell_type": "code",
   "execution_count": null,
   "id": "30c9d724-6ebc-49dd-a6d0-e278979c7d8e",
   "metadata": {
    "tags": []
   },
   "outputs": [],
   "source": [
    "sin_data = np.sin(data)\n",
    "\n",
    "fig, ax = plt.subplots(figsize=(8, 8))\n",
    "\n",
    "pmesh = ax.pcolormesh(sin_data)\n",
    "plt.colorbar(pmesh)"
   ]
  },
  {
   "cell_type": "markdown",
   "id": "50e810aa-f7d9-454d-a36b-84c096ef06cc",
   "metadata": {},
   "source": [
    "[Return to top](#top)\n",
    "\n",
    "<a id=\"exercise3\"></a>\n",
    "## Exercise 3\n",
    "\n",
    "1. Add x- and y-axis labels and a title to the `pcolormesh` plots\n",
    "2. Set `sin_data` values less than `-0.5` to `np.nan` and plot the result with axes labels and a descriptive title"
   ]
  },
  {
   "cell_type": "code",
   "execution_count": null,
   "id": "5840511e-add9-449c-8b66-91e58d3d42fc",
   "metadata": {},
   "outputs": [],
   "source": [
    "# your code here"
   ]
  },
  {
   "cell_type": "code",
   "execution_count": null,
   "id": "86d70800-6e54-4512-841b-2683dd22970f",
   "metadata": {},
   "outputs": [],
   "source": []
  }
 ],
 "metadata": {
  "kernelspec": {
   "display_name": "Python 3 (ipykernel)",
   "language": "python",
   "name": "python3"
  },
  "language_info": {
   "codemirror_mode": {
    "name": "ipython",
    "version": 3
   },
   "file_extension": ".py",
   "mimetype": "text/x-python",
   "name": "python",
   "nbconvert_exporter": "python",
   "pygments_lexer": "ipython3",
   "version": "3.11.0"
  }
 },
 "nbformat": 4,
 "nbformat_minor": 5
}
